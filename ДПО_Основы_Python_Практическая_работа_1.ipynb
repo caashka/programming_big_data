{
  "nbformat": 4,
  "nbformat_minor": 0,
  "metadata": {
    "colab": {
      "provenance": [],
      "include_colab_link": true
    },
    "kernelspec": {
      "name": "python3",
      "display_name": "Python 3"
    },
    "language_info": {
      "name": "python"
    }
  },
  "cells": [
    {
      "cell_type": "markdown",
      "metadata": {
        "id": "view-in-github",
        "colab_type": "text"
      },
      "source": [
        "<a href=\"https://colab.research.google.com/github/caashka/programming_big_data/blob/main/%D0%94%D0%9F%D0%9E_%D0%9E%D1%81%D0%BD%D0%BE%D0%B2%D1%8B_Python_%D0%9F%D1%80%D0%B0%D0%BA%D1%82%D0%B8%D1%87%D0%B5%D1%81%D0%BA%D0%B0%D1%8F_%D1%80%D0%B0%D0%B1%D0%BE%D1%82%D0%B0_1.ipynb\" target=\"_parent\"><img src=\"https://colab.research.google.com/assets/colab-badge.svg\" alt=\"Open In Colab\"/></a>"
      ]
    },
    {
      "cell_type": "markdown",
      "source": [
        "# **Практическая работа №1. Введение в Python. Функции ввода-вывода. Основные типы и структуры данных**\n",
        "\n",
        "---\n",
        "\n",
        "\n",
        "\n"
      ],
      "metadata": {
        "id": "wfO8faq6ZSPR"
      }
    },
    {
      "cell_type": "markdown",
      "source": [
        "**Обучающийся:** *Щукин А. П.*  \n"
      ],
      "metadata": {
        "id": "s1lvsaUa1kGY"
      }
    },
    {
      "cell_type": "markdown",
      "source": [
        "---"
      ],
      "metadata": {
        "id": "Lmxdci5V1iUz"
      }
    },
    {
      "cell_type": "markdown",
      "source": [
        "## **Блок заданий №1. Функция `print`**\n",
        "\n",
        "\n"
      ],
      "metadata": {
        "id": "APa2xjpZcAkk"
      }
    },
    {
      "cell_type": "markdown",
      "source": [
        "#### 1. Выведите на экран фразу **\"Добро пожаловать в мир Python!\"** с помощью функции `print`.\n"
      ],
      "metadata": {
        "id": "omMWRtIod-k-"
      }
    },
    {
      "cell_type": "code",
      "source": [
        "print('Добро пожаловть в Python')"
      ],
      "metadata": {
        "id": "0R5R1jSwd_FT",
        "colab": {
          "base_uri": "https://localhost:8080/"
        },
        "outputId": "d0f3a673-aa2d-41c0-fff7-1bd087d1480b"
      },
      "execution_count": null,
      "outputs": [
        {
          "output_type": "stream",
          "name": "stdout",
          "text": [
            "Добро пожаловть в Python\n"
          ]
        }
      ]
    },
    {
      "cell_type": "markdown",
      "source": [
        "#### 2. Выведите на экран результат сложения чисел **15** и **27**.\n"
      ],
      "metadata": {
        "id": "A3ysPOjNd70e"
      }
    },
    {
      "cell_type": "code",
      "source": [
        "print(15 + 27)"
      ],
      "metadata": {
        "id": "5wnr_TY1eCmM",
        "colab": {
          "base_uri": "https://localhost:8080/"
        },
        "outputId": "0490060c-677e-4102-b605-721d1181917b"
      },
      "execution_count": null,
      "outputs": [
        {
          "output_type": "stream",
          "name": "stdout",
          "text": [
            "42\n"
          ]
        }
      ]
    },
    {
      "cell_type": "markdown",
      "source": [
        "#### 3. Сохраните свое имя в переменную и выведите его на экран с помощью `print`."
      ],
      "metadata": {
        "id": "RBkgp7Bjd9VL"
      }
    },
    {
      "cell_type": "code",
      "source": [
        "name = \"Alexander\"\n",
        "print(name)"
      ],
      "metadata": {
        "id": "R7V70qsCeCxl",
        "colab": {
          "base_uri": "https://localhost:8080/"
        },
        "outputId": "ca247c1b-3c56-43d7-eb71-414474b00ae2"
      },
      "execution_count": null,
      "outputs": [
        {
          "output_type": "stream",
          "name": "stdout",
          "text": [
            "Alexander\n"
          ]
        }
      ]
    },
    {
      "cell_type": "markdown",
      "source": [
        "#### 4. Выведите на экран несколько строк текста, каждая из которых отображается с новой строки."
      ],
      "metadata": {
        "id": "8q_iVvGed6VD"
      }
    },
    {
      "cell_type": "code",
      "source": [
        "print('это', 'новая', 'строка', sep='\\n')"
      ],
      "metadata": {
        "id": "5uFFGny2eC_7",
        "colab": {
          "base_uri": "https://localhost:8080/"
        },
        "outputId": "ffff1a17-727c-48cf-eea4-8a4b35a375b8"
      },
      "execution_count": null,
      "outputs": [
        {
          "output_type": "stream",
          "name": "stdout",
          "text": [
            "это\n",
            "новая\n",
            "строка\n"
          ]
        }
      ]
    },
    {
      "cell_type": "markdown",
      "source": [
        "#### 5. Выведите результат математического выражения с использованием f-строк, например:\n",
        "\n",
        "   ```python\n",
        "   7 + 7 = 14\n",
        "   ```\n"
      ],
      "metadata": {
        "id": "ZwTwWIbpeO8B"
      }
    },
    {
      "cell_type": "code",
      "source": [
        "print(f'сумма чисел 2 + 2 равна {2 + 2}')"
      ],
      "metadata": {
        "id": "f7cGPh5reXb8",
        "colab": {
          "base_uri": "https://localhost:8080/"
        },
        "outputId": "88174ed2-bc07-4573-87d2-c06bdeac3969"
      },
      "execution_count": null,
      "outputs": [
        {
          "output_type": "stream",
          "name": "stdout",
          "text": [
            "сумма чисел 2 + 2 равна 4\n"
          ]
        }
      ]
    },
    {
      "cell_type": "markdown",
      "source": [
        "## **Блок заданий №2. Функция `input`**\n",
        "\n"
      ],
      "metadata": {
        "id": "YBCWUDzEdQcl"
      }
    },
    {
      "cell_type": "markdown",
      "source": [
        "#### 1. Запросите у пользователя три разных числа и выведите их произведение.\n"
      ],
      "metadata": {
        "id": "1JG7ncRffYpN"
      }
    },
    {
      "cell_type": "code",
      "source": [
        "num1 = int(input('Введите число 1: '))\n",
        "num2 = int(input('Введите число 2: '))\n",
        "num3 = int(input('Введите число 3: '))\n",
        "print('сумма введённых чисел равна ', num1 + num2 + num3)"
      ],
      "metadata": {
        "id": "duI1IqytfZo3",
        "colab": {
          "base_uri": "https://localhost:8080/"
        },
        "outputId": "20a9ae56-d0ac-4bbd-f8e7-cc7b23e6c81d"
      },
      "execution_count": null,
      "outputs": [
        {
          "output_type": "stream",
          "name": "stdout",
          "text": [
            "Введите число 1: 1\n",
            "Введите число 2: 2\n",
            "Введите число 3: 3\n",
            "сумма введённых чисел равна  6\n"
          ]
        }
      ]
    },
    {
      "cell_type": "markdown",
      "source": [
        "#### 2. Попросите пользователя ввести свое ФИО, а затем выведите фамилию и инициалы.\n"
      ],
      "metadata": {
        "id": "CGLKsG9yfXZf"
      }
    },
    {
      "cell_type": "code",
      "source": [
        "full_name = input('Ваше ФИО целиком: ')\n",
        "full_name = full_name.split(' ')\n",
        "print(f'{full_name[0].capitalize()} {full_name[1][0].upper()}. {full_name[2][0].upper()}.')"
      ],
      "metadata": {
        "id": "OhBXFkoffZ1l",
        "colab": {
          "base_uri": "https://localhost:8080/"
        },
        "outputId": "eeec1537-8965-411a-a236-39f7f66c126e"
      },
      "execution_count": null,
      "outputs": [
        {
          "output_type": "stream",
          "name": "stdout",
          "text": [
            "Ваше ФИО целиком Щукин Александр Павлович\n",
            "Щукин А. П.\n"
          ]
        }
      ]
    },
    {
      "cell_type": "markdown",
      "source": [
        "#### 3. Получите от пользователя строку и символ, затем определите, сколько раз этот символ встречается в строке.\n"
      ],
      "metadata": {
        "id": "FJd73_DSfWgf"
      }
    },
    {
      "cell_type": "code",
      "source": [
        "text = input('Введите строку: ')\n",
        "ch = input('Введите символ: ')\n",
        "\n",
        "count = text.count(ch)\n",
        "print(count)"
      ],
      "metadata": {
        "id": "VAzbeJANfaAP",
        "colab": {
          "base_uri": "https://localhost:8080/"
        },
        "outputId": "9ec3f5c1-d101-4c0a-9c59-975f5afe1a8d"
      },
      "execution_count": null,
      "outputs": [
        {
          "output_type": "stream",
          "name": "stdout",
          "text": [
            "Введите строку: -\n",
            "Введите символ: asdasd\n",
            "0\n"
          ]
        }
      ]
    },
    {
      "cell_type": "markdown",
      "source": [
        "#### 4. Попросите пользователя ввести любимый цвет и выведите сообщение: **\"[Цвет] - красивый цвет!\"**.\n"
      ],
      "metadata": {
        "id": "ZY_cf1nbfVbo"
      }
    },
    {
      "cell_type": "code",
      "source": [
        "color = input('Введите ваш любыимый цвет: ')\n",
        "print(f'{color} - красивый цвет!')"
      ],
      "metadata": {
        "id": "vVoFM74MfaMe",
        "colab": {
          "base_uri": "https://localhost:8080/"
        },
        "outputId": "ce5dc599-28f9-42ad-aaba-1b45115fb9a8"
      },
      "execution_count": null,
      "outputs": [
        {
          "output_type": "stream",
          "name": "stdout",
          "text": [
            "Введите ваш любыимый цветчёрный\n",
            "чёрный - красивый цвет!\n"
          ]
        }
      ]
    },
    {
      "cell_type": "markdown",
      "source": [
        "#### 5. Получите от пользователя строку и выведите ее длину."
      ],
      "metadata": {
        "id": "a6ekPIcOfUFK"
      }
    },
    {
      "cell_type": "code",
      "source": [
        "string = input('введите строку: ')\n",
        "print('Длина введённой строки -', len(string))"
      ],
      "metadata": {
        "id": "psRmx_htfas2",
        "colab": {
          "base_uri": "https://localhost:8080/"
        },
        "outputId": "f147fa4d-9d3d-443f-b9b7-995dfce30522"
      },
      "execution_count": null,
      "outputs": [
        {
          "output_type": "stream",
          "name": "stdout",
          "text": [
            "введите строку: Sasha\n",
            "Длина введённой строки - 5\n"
          ]
        }
      ]
    },
    {
      "cell_type": "markdown",
      "source": [
        "## **Блок заданий №3. Тип данных `int`**"
      ],
      "metadata": {
        "id": "gQ99P3lxgEvA"
      }
    },
    {
      "cell_type": "markdown",
      "source": [
        "#### Тип данных `int`\n",
        "\n",
        "\n",
        "\n",
        "\n",
        "\n"
      ],
      "metadata": {
        "id": "c-pHmy5NctvU"
      }
    },
    {
      "cell_type": "markdown",
      "source": [
        "1. Создайте переменную типа `int`, присвойте ей значение **42** и выведите на экран."
      ],
      "metadata": {
        "id": "1YAKZCMuglIZ"
      }
    },
    {
      "cell_type": "code",
      "source": [
        "meaning = 42\n",
        "print(meaning)"
      ],
      "metadata": {
        "id": "BpqJyc5GgmWz",
        "colab": {
          "base_uri": "https://localhost:8080/"
        },
        "outputId": "cdd0a617-7350-4438-b20d-0bb7fbcb7d0c"
      },
      "execution_count": null,
      "outputs": [
        {
          "output_type": "stream",
          "name": "stdout",
          "text": [
            "42\n"
          ]
        }
      ]
    },
    {
      "cell_type": "markdown",
      "source": [
        "2. Вычислите и выведите результат выражения **(17 * 3) + (10 / 2)** в виде целого числа."
      ],
      "metadata": {
        "id": "J3FS1RtDgkCO"
      }
    },
    {
      "cell_type": "code",
      "source": [
        "print(int((17 * 3) + (10 / 2)))"
      ],
      "metadata": {
        "id": "YLIx8CCrgmkU",
        "colab": {
          "base_uri": "https://localhost:8080/"
        },
        "outputId": "77f30dc1-9682-4320-e0f8-d543faa638bc"
      },
      "execution_count": null,
      "outputs": [
        {
          "output_type": "stream",
          "name": "stdout",
          "text": [
            "56\n"
          ]
        }
      ]
    },
    {
      "cell_type": "markdown",
      "source": [
        "3. Преобразуйте строку **\"100\"** в целое число и добавьте к нему **25**."
      ],
      "metadata": {
        "id": "91x1Lb4tgier"
      }
    },
    {
      "cell_type": "code",
      "source": [
        "num_str = '100'\n",
        "num_str = int(num_str) + 25\n",
        "print(num_str)"
      ],
      "metadata": {
        "id": "vmEIAy1CgmzH",
        "colab": {
          "base_uri": "https://localhost:8080/"
        },
        "outputId": "af14d59a-fb4b-4c63-e66a-902f06b99f94"
      },
      "execution_count": null,
      "outputs": [
        {
          "output_type": "stream",
          "name": "stdout",
          "text": [
            "125\n"
          ]
        }
      ]
    },
    {
      "cell_type": "markdown",
      "source": [
        "4. Проверьте тип переменной, которая хранит значение **7**, используя функцию `type()`."
      ],
      "metadata": {
        "id": "Ua_0A7teghG0"
      }
    },
    {
      "cell_type": "code",
      "source": [
        "var = 7\n",
        "print('Тип переменной var -', type(var))"
      ],
      "metadata": {
        "id": "56_CnKgGgnFi",
        "colab": {
          "base_uri": "https://localhost:8080/"
        },
        "outputId": "35c2213f-50d0-414c-b252-bc6dda1d929f"
      },
      "execution_count": null,
      "outputs": [
        {
          "output_type": "stream",
          "name": "stdout",
          "text": [
            "Тип переменной var - <class 'int'>\n"
          ]
        }
      ]
    },
    {
      "cell_type": "markdown",
      "source": [
        "5. Создайте две переменные целого типа, присвойте им значения и выведите их разницу."
      ],
      "metadata": {
        "id": "JxK0fU_Wgf8J"
      }
    },
    {
      "cell_type": "code",
      "source": [
        "a = 1000\n",
        "b = 7\n",
        "print(a - b)"
      ],
      "metadata": {
        "id": "GFsY9xSkgnfv",
        "colab": {
          "base_uri": "https://localhost:8080/"
        },
        "outputId": "ab15fe4c-7972-4b11-e419-aaa1a24a1656"
      },
      "execution_count": null,
      "outputs": [
        {
          "output_type": "stream",
          "name": "stdout",
          "text": [
            "993\n"
          ]
        }
      ]
    },
    {
      "cell_type": "markdown",
      "source": [
        "## **Блок заданий №4. Тип данных `float`**"
      ],
      "metadata": {
        "id": "G-DskIxcg598"
      }
    },
    {
      "cell_type": "markdown",
      "source": [
        "#### 1. Запросите у пользователя вещественное число и выведите его квадрат.\n",
        "\n",
        "\n",
        "\n"
      ],
      "metadata": {
        "id": "W5liVT_kcwnQ"
      }
    },
    {
      "cell_type": "code",
      "source": [
        "num_float = float(input('Введите вещественное число: '))\n",
        "print(f'Квадрат числа: {num_float ** 2}')"
      ],
      "metadata": {
        "id": "S_i6OLwShHaH",
        "colab": {
          "base_uri": "https://localhost:8080/"
        },
        "outputId": "ca3e219b-46a9-490a-e57c-fcf8ba4ae75f"
      },
      "execution_count": null,
      "outputs": [
        {
          "output_type": "stream",
          "name": "stdout",
          "text": [
            "Введите вещественное число: 13.5\n",
            "Квадрат числа: 182.25\n"
          ]
        }
      ]
    },
    {
      "cell_type": "markdown",
      "source": [
        "#### 2. Запросите у пользователя вещественное число и округлите его до двух знаков после запятой."
      ],
      "metadata": {
        "id": "rcXGDx7FhGZ7"
      }
    },
    {
      "cell_type": "code",
      "source": [
        "num_round = float(input('Введите вещественное число: '))\n",
        "print(f'Округленное число: {round(num_round, 2)}')"
      ],
      "metadata": {
        "id": "W534mNlphHoW",
        "colab": {
          "base_uri": "https://localhost:8080/"
        },
        "outputId": "5ad88ade-8c78-445c-b678-0096f3b5af64"
      },
      "execution_count": null,
      "outputs": [
        {
          "output_type": "stream",
          "name": "stdout",
          "text": [
            "Введите вещественное число: 123.123123\n",
            "Округленное число: 123.12\n"
          ]
        }
      ]
    },
    {
      "cell_type": "markdown",
      "source": [
        "#### 3. Сложите два числа с плавающей точкой: **2.5** и **4.7**, выведите результат."
      ],
      "metadata": {
        "id": "2HZIMG65hEwD"
      }
    },
    {
      "cell_type": "code",
      "source": [
        "result = 2.5 + 4.7\n",
        "print(f'Результат: {result}')"
      ],
      "metadata": {
        "id": "tNhoDLUqhH-Q",
        "colab": {
          "base_uri": "https://localhost:8080/"
        },
        "outputId": "71d2c013-0bd9-48be-fef3-7f27f3aaa5cc"
      },
      "execution_count": null,
      "outputs": [
        {
          "output_type": "stream",
          "name": "stdout",
          "text": [
            "Результат: 7.2\n"
          ]
        }
      ]
    },
    {
      "cell_type": "markdown",
      "source": [
        "#### 4. Преобразуйте градусы Цельсия, введенные пользователем, в Фаренгейты по формуле `F = C * 9/5 + 32`."
      ],
      "metadata": {
        "id": "lbX1tt0_hDlr"
      }
    },
    {
      "cell_type": "code",
      "source": [
        "celsius = float(input('Введите температуру в грудусах Цельсия: '))\n",
        "fahrenheit = celsius * 9/5 + 32\n",
        "print(f'Температура в Фаренгейтах: {fahrenheit}')"
      ],
      "metadata": {
        "id": "tjYR7aRHhILq",
        "colab": {
          "base_uri": "https://localhost:8080/"
        },
        "outputId": "5a6d001a-158e-4ea3-be8a-ca7082d4b0b9"
      },
      "execution_count": null,
      "outputs": [
        {
          "output_type": "stream",
          "name": "stdout",
          "text": [
            "Введите температуру в грудусах Цельсия: 24\n",
            "Температура в Фаренгейтах: 75.2\n"
          ]
        }
      ]
    },
    {
      "cell_type": "markdown",
      "source": [
        "#### 5. Получите от пользователя длину и ширину прямоугольника, вычислите его площадь и периметр."
      ],
      "metadata": {
        "id": "RhghSwthhCPJ"
      }
    },
    {
      "cell_type": "code",
      "source": [
        "length = float(input('Введите длину прямоугольника: '))\n",
        "width = float(input('Введите ширину прямоугольника: '))\n",
        "area = length * width\n",
        "perimeter = 2 * (length + width)\n",
        "print(f'Площадь: {area}, Периметр: {perimeter}')"
      ],
      "metadata": {
        "id": "GjKTKXmZhIaN",
        "colab": {
          "base_uri": "https://localhost:8080/"
        },
        "outputId": "67180a37-979a-48d4-bfc6-bb3770602ed2"
      },
      "execution_count": null,
      "outputs": [
        {
          "output_type": "stream",
          "name": "stdout",
          "text": [
            "Введите длину прямоугольника: 12.5\n",
            "Введите ширину прямоугольника: 13\n",
            "Площадь: 162.5, Периметр: 51.0\n"
          ]
        }
      ]
    },
    {
      "cell_type": "markdown",
      "source": [
        "## **Блок заданий №5. Тип данных `str`**"
      ],
      "metadata": {
        "id": "CslTMbtXiWOP"
      }
    },
    {
      "cell_type": "markdown",
      "source": [
        "####1. Создайте строку **\"Python - самый популярный язык программирования\"** и выведите ее.\n"
      ],
      "metadata": {
        "id": "KUmla5cCieae"
      }
    },
    {
      "cell_type": "code",
      "source": [
        "s = \"Python - самый популярный язык программирования\"\n",
        "print(s)"
      ],
      "metadata": {
        "id": "Q7kHloVXlMVB",
        "colab": {
          "base_uri": "https://localhost:8080/"
        },
        "outputId": "50105bd9-1217-4160-dc36-bd584b4e9d34"
      },
      "execution_count": null,
      "outputs": [
        {
          "output_type": "stream",
          "name": "stdout",
          "text": [
            "Python - самый популярный язык программирования\n"
          ]
        }
      ]
    },
    {
      "cell_type": "markdown",
      "source": [
        "####2. Выведите первый и последний символы строки **\"Привет, мир!\"**."
      ],
      "metadata": {
        "id": "ypQL09raiehN"
      }
    },
    {
      "cell_type": "code",
      "source": [
        "s = \"Привет, мир!\"\n",
        "print(f\"Первый символ: {s[0]}, Последний символ: {s[-1]}\")"
      ],
      "metadata": {
        "id": "iVU99HAUlMpC",
        "colab": {
          "base_uri": "https://localhost:8080/"
        },
        "outputId": "360e6dc8-19d8-4d9f-b678-a016b9c08c0e"
      },
      "execution_count": null,
      "outputs": [
        {
          "output_type": "stream",
          "name": "stdout",
          "text": [
            "Первый символ: П, Последний символ: !\n"
          ]
        }
      ]
    },
    {
      "cell_type": "markdown",
      "source": [
        "####3. Соедините три строки: **\"МИИГАиК - \"** , **\"Лучший \"**, **\"ВУЗ!\"** выведите результат."
      ],
      "metadata": {
        "id": "XxKbQhFkiw83"
      }
    },
    {
      "cell_type": "code",
      "source": [
        "s1, s2, s3 = \"МИИГАиК - \", \"Лучший \", \"ВУЗ!\"\n",
        "result = s1 + s2 + s3\n",
        "print(result)"
      ],
      "metadata": {
        "id": "4amk_NcnlM3T",
        "colab": {
          "base_uri": "https://localhost:8080/"
        },
        "outputId": "4f5c3649-0834-44b8-be10-03c9512d7879"
      },
      "execution_count": null,
      "outputs": [
        {
          "output_type": "stream",
          "name": "stdout",
          "text": [
            "МИИГАиК - Лучший ВУЗ!\n"
          ]
        }
      ]
    },
    {
      "cell_type": "markdown",
      "source": [
        "####4. Преобразуйте строку **\"12345\"** в число и выведите тип полученного значения.\n"
      ],
      "metadata": {
        "id": "MXOJX4g8ieoI"
      }
    },
    {
      "cell_type": "code",
      "source": [
        "s = \"12345\"\n",
        "num = int(s)\n",
        "print(f\"Тип: {type(num)}\")"
      ],
      "metadata": {
        "id": "t6Wvy7CZlNM2",
        "colab": {
          "base_uri": "https://localhost:8080/"
        },
        "outputId": "24aa0f4a-6580-4bb6-8a3c-b6d5d125970b"
      },
      "execution_count": null,
      "outputs": [
        {
          "output_type": "stream",
          "name": "stdout",
          "text": [
            "Тип: <class 'int'>\n"
          ]
        }
      ]
    },
    {
      "cell_type": "markdown",
      "source": [
        "####5. Сделайте все буквы строки **\"python is Fun\"** заглавными и выведите результат."
      ],
      "metadata": {
        "id": "hhBQ-8gMc0Li"
      }
    },
    {
      "cell_type": "code",
      "source": [
        "s = \"python is Fun\"\n",
        "print(s.upper())"
      ],
      "metadata": {
        "id": "n3KLT91zlNgY",
        "colab": {
          "base_uri": "https://localhost:8080/"
        },
        "outputId": "373703cc-462a-4996-f1a5-f12ff084b8bb"
      },
      "execution_count": null,
      "outputs": [
        {
          "output_type": "stream",
          "name": "stdout",
          "text": [
            "PYTHON IS FUN\n"
          ]
        }
      ]
    },
    {
      "cell_type": "markdown",
      "source": [
        "## **Блок заданий №6. Тип данных `list`**"
      ],
      "metadata": {
        "id": "ud5LmPUPlXND"
      }
    },
    {
      "cell_type": "markdown",
      "source": [
        "####1. Создайте список из чисел **[10, 20, 30, 40, 50]** и выведите его.\n"
      ],
      "metadata": {
        "id": "ZDkNefxXlXND"
      }
    },
    {
      "cell_type": "code",
      "source": [
        "arr = [10, 20, 30, 40, 50]\n",
        "print(arr)"
      ],
      "metadata": {
        "id": "G6fH9gBLlzI2",
        "colab": {
          "base_uri": "https://localhost:8080/"
        },
        "outputId": "6d1265eb-e7f1-4f23-aabd-edeb0e50b8d3"
      },
      "execution_count": null,
      "outputs": [
        {
          "output_type": "stream",
          "name": "stdout",
          "text": [
            "[10, 20, 30, 40, 50]\n"
          ]
        }
      ]
    },
    {
      "cell_type": "markdown",
      "source": [
        "####2. Добавьте в список строку **\"новый элемент\"** и выведите обновленный список.\n"
      ],
      "metadata": {
        "id": "oDUtdPi-lo7n"
      }
    },
    {
      "cell_type": "code",
      "source": [
        "arr.append(\"новый элемент\")\n",
        "print(arr)"
      ],
      "metadata": {
        "id": "6QhNXffflzXT",
        "colab": {
          "base_uri": "https://localhost:8080/"
        },
        "outputId": "ac5d71a2-acc0-45a5-bb4a-098d2cba97e5"
      },
      "execution_count": null,
      "outputs": [
        {
          "output_type": "stream",
          "name": "stdout",
          "text": [
            "[10, 20, 30, 40, 50, 'новый элемент']\n"
          ]
        }
      ]
    },
    {
      "cell_type": "markdown",
      "source": [
        "####3. Из списка `['python', 'java', 'c++', 'ruby', 'perl']` выведите элементы с 2-го по 4-й включительно.\n"
      ],
      "metadata": {
        "id": "BZlOVdc4lo-O"
      }
    },
    {
      "cell_type": "code",
      "source": [
        "arr_programming = ['python', 'java', 'c++', 'ruby', 'perl']\n",
        "print(arr_programming[1:4])"
      ],
      "metadata": {
        "id": "lU12ExUElzjH",
        "colab": {
          "base_uri": "https://localhost:8080/"
        },
        "outputId": "b8d0b10f-fe48-40fa-9458-5ae4908f029e"
      },
      "execution_count": null,
      "outputs": [
        {
          "output_type": "stream",
          "name": "stdout",
          "text": [
            "['java', 'c++', 'ruby']\n"
          ]
        }
      ]
    },
    {
      "cell_type": "markdown",
      "source": [
        "####4. Создайте пустой список, добавьте в него три любых значения и выведите итоговый список.\n"
      ],
      "metadata": {
        "id": "0dZPxhU_lpCN"
      }
    },
    {
      "cell_type": "code",
      "source": [
        "def test():\n",
        "  return 'i`m function'\n",
        "\n",
        "arr = []\n",
        "arr.append(1)\n",
        "arr.append(\"hello\")\n",
        "arr.append(test)\n",
        "print(arr)"
      ],
      "metadata": {
        "id": "pRQ1BHKUlzud",
        "colab": {
          "base_uri": "https://localhost:8080/"
        },
        "outputId": "42b3ce88-5360-42ec-f6e7-6c3d1aa81100"
      },
      "execution_count": null,
      "outputs": [
        {
          "output_type": "stream",
          "name": "stdout",
          "text": [
            "[1, 'hello', <function test at 0x7d5fc26c0c20>]\n"
          ]
        }
      ]
    },
    {
      "cell_type": "markdown",
      "source": [
        "####5. Измените второй элемент списка **[1, 2, 3, 4, 5]** на число **200** и выведите список."
      ],
      "metadata": {
        "id": "o104mH_plpJl"
      }
    },
    {
      "cell_type": "code",
      "source": [
        "arr = [1, 2, 3, 4, 5]\n",
        "arr[1] = 200\n",
        "print(arr)"
      ],
      "metadata": {
        "id": "ur_sqeAYlz-0",
        "colab": {
          "base_uri": "https://localhost:8080/"
        },
        "outputId": "fd25068a-1ff2-463a-cc83-26e60d64f376"
      },
      "execution_count": null,
      "outputs": [
        {
          "output_type": "stream",
          "name": "stdout",
          "text": [
            "[1, 200, 3, 4, 5]\n"
          ]
        }
      ]
    },
    {
      "cell_type": "markdown",
      "source": [
        "## **Блок заданий №7. Тип данных `tuple`**"
      ],
      "metadata": {
        "id": "w7lcJPx9mhLe"
      }
    },
    {
      "cell_type": "markdown",
      "source": [
        "####1. Создайте кортеж из чисел **(1, 2, 3, 4, 5)** и выведите его на экран.\n"
      ],
      "metadata": {
        "id": "HqmF9aMWmeon"
      }
    },
    {
      "cell_type": "code",
      "source": [
        "tup = (1, 2, 3, 4, 5)\n",
        "print(tup)"
      ],
      "metadata": {
        "id": "hGuk1KfHn7V7",
        "colab": {
          "base_uri": "https://localhost:8080/"
        },
        "outputId": "22e7f05a-d2c3-4aa8-f16e-420462b9ec68"
      },
      "execution_count": null,
      "outputs": [
        {
          "output_type": "stream",
          "name": "stdout",
          "text": [
            "(1, 2, 3, 4, 5)\n"
          ]
        }
      ]
    },
    {
      "cell_type": "markdown",
      "source": [
        "####2. Попробуйте изменить первый элемент кортежа и объясните в комментариях к программе, что произошло.\n"
      ],
      "metadata": {
        "id": "_QQf4g6gmerF"
      }
    },
    {
      "cell_type": "code",
      "source": [
        "tup[0] = 100"
      ],
      "metadata": {
        "id": "sZcbKwV_n7vA",
        "colab": {
          "base_uri": "https://localhost:8080/",
          "height": 144
        },
        "outputId": "d49abb96-2f02-47ac-8309-7c5ca5993b1c"
      },
      "execution_count": null,
      "outputs": [
        {
          "output_type": "error",
          "ename": "TypeError",
          "evalue": "'tuple' object does not support item assignment",
          "traceback": [
            "\u001b[0;31m---------------------------------------------------------------------------\u001b[0m",
            "\u001b[0;31mTypeError\u001b[0m                                 Traceback (most recent call last)",
            "\u001b[0;32m/tmp/ipython-input-1239726306.py\u001b[0m in \u001b[0;36m<cell line: 0>\u001b[0;34m()\u001b[0m\n\u001b[0;32m----> 1\u001b[0;31m \u001b[0mtup\u001b[0m\u001b[0;34m[\u001b[0m\u001b[0;36m0\u001b[0m\u001b[0;34m]\u001b[0m \u001b[0;34m=\u001b[0m \u001b[0;36m100\u001b[0m\u001b[0;34m\u001b[0m\u001b[0;34m\u001b[0m\u001b[0m\n\u001b[0m",
            "\u001b[0;31mTypeError\u001b[0m: 'tuple' object does not support item assignment"
          ]
        }
      ]
    },
    {
      "cell_type": "markdown",
      "source": [
        "тип данных  tuple - неизменяемый"
      ],
      "metadata": {
        "id": "XC9cXeUOZ46J"
      }
    },
    {
      "cell_type": "markdown",
      "source": [
        "####3. Преобразуйте кортеж в строку и выведите результат.\n"
      ],
      "metadata": {
        "id": "6fMHK5femevO"
      }
    },
    {
      "cell_type": "code",
      "source": [
        "s = str(tup)\n",
        "print(s)"
      ],
      "metadata": {
        "id": "AudeNNOin77h",
        "colab": {
          "base_uri": "https://localhost:8080/"
        },
        "outputId": "c44ae620-6c89-482d-b669-90e287d5a15b"
      },
      "execution_count": null,
      "outputs": [
        {
          "output_type": "stream",
          "name": "stdout",
          "text": [
            "(1, 2, 3, 4, 5)\n"
          ]
        }
      ]
    },
    {
      "cell_type": "markdown",
      "source": [
        "####4. Проверьте, содержится ли определенный элемент в кортеже, выведите соответствующее сообщение.\n"
      ],
      "metadata": {
        "id": "HOOFXQYtmeyG"
      }
    },
    {
      "cell_type": "code",
      "source": [
        "tup = (1, 2, 3, 4, 5)\n",
        "element = 3\n",
        "print(f\"Элемент {element} {'присутствует' if element in tup else 'отсутствует'} в кортеже {tup}\")"
      ],
      "metadata": {
        "id": "PlPkzGCon8N2",
        "colab": {
          "base_uri": "https://localhost:8080/"
        },
        "outputId": "899e97b1-330e-4256-f8fb-7d3d1ed9cc60"
      },
      "execution_count": null,
      "outputs": [
        {
          "output_type": "stream",
          "name": "stdout",
          "text": [
            "Элемент 3 присутствует в кортеже (1, 2, 3, 4, 5)\n"
          ]
        }
      ]
    },
    {
      "cell_type": "markdown",
      "source": [
        "####5. Создайте кортеж, состоящий из нескольких одинаковых элементов, и найдите их количество с помощью метода `count()`.\n"
      ],
      "metadata": {
        "id": "HSi5wD3xme3I"
      }
    },
    {
      "cell_type": "code",
      "source": [
        "tup = (1, 1, 2, 2, 2, 3)\n",
        "element = 2\n",
        "print(f\"Количество элементов {element}: {tup.count(element)}\")"
      ],
      "metadata": {
        "id": "G5eyJNkZn8aw",
        "colab": {
          "base_uri": "https://localhost:8080/"
        },
        "outputId": "27bd9ead-0a8c-4c23-c6a6-67652a10d022"
      },
      "execution_count": null,
      "outputs": [
        {
          "output_type": "stream",
          "name": "stdout",
          "text": [
            "Количество элементов 2: 3\n"
          ]
        }
      ]
    },
    {
      "cell_type": "markdown",
      "source": [
        "## **Блок заданий №8. Тип данных `dict`**"
      ],
      "metadata": {
        "id": "v7nByOSzn6Gs"
      }
    },
    {
      "cell_type": "markdown",
      "source": [
        "####1. Создайте словарь с данными о себе: ключи **\"имя\"**, **\"возраст\"**, **\"город\"**; выведите его.\n"
      ],
      "metadata": {
        "id": "SdH7l87WoNxs"
      }
    },
    {
      "cell_type": "code",
      "source": [
        "d = {\"имя\": \"Александр\", \"возраст\": 21, \"город\": \"Москва\"}\n",
        "print(d)"
      ],
      "metadata": {
        "id": "G_5mPREsoO__",
        "colab": {
          "base_uri": "https://localhost:8080/"
        },
        "outputId": "3a1a8832-195d-4958-a0a6-e5046c288cc1"
      },
      "execution_count": null,
      "outputs": [
        {
          "output_type": "stream",
          "name": "stdout",
          "text": [
            "{'имя': 'Александр', 'возраст': 21, 'город': 'Москва'}\n"
          ]
        }
      ]
    },
    {
      "cell_type": "markdown",
      "source": [
        "####2. Выведите значение по ключу **\"имя\"** из созданного словаря.\n"
      ],
      "metadata": {
        "id": "nsoYMyesoMxq"
      }
    },
    {
      "cell_type": "code",
      "source": [
        "print(d[\"имя\"])"
      ],
      "metadata": {
        "id": "OL_waQuioPSG",
        "colab": {
          "base_uri": "https://localhost:8080/"
        },
        "outputId": "d120b6e4-5144-4c68-d325-22114ad5fcdf"
      },
      "execution_count": null,
      "outputs": [
        {
          "output_type": "stream",
          "name": "stdout",
          "text": [
            "Александр\n"
          ]
        }
      ]
    },
    {
      "cell_type": "markdown",
      "source": [
        "####3. Добавьте в словарь новый ключ **\"профессия\"** со значением и выведите словарь.\n"
      ],
      "metadata": {
        "id": "0T_miCFjoLhI"
      }
    },
    {
      "cell_type": "code",
      "source": [
        "d[\"профессия\"] = \"Программист\"\n",
        "print(d)"
      ],
      "metadata": {
        "id": "5LOqyJAHoPfn",
        "colab": {
          "base_uri": "https://localhost:8080/"
        },
        "outputId": "4d608810-7f77-4865-fb98-003351e9b205"
      },
      "execution_count": null,
      "outputs": [
        {
          "output_type": "stream",
          "name": "stdout",
          "text": [
            "{'имя': 'Александр', 'возраст': 21, 'город': 'Москва', 'профессия': 'Программист'}\n"
          ]
        }
      ]
    },
    {
      "cell_type": "markdown",
      "source": [
        "####4. Удалите из словаря ключ **\"город\"** и выведите обновленный словарь.\n"
      ],
      "metadata": {
        "id": "QPwxJK74oKZ3"
      }
    },
    {
      "cell_type": "code",
      "source": [
        "del d[\"город\"]\n",
        "print(d)"
      ],
      "metadata": {
        "id": "3dPMpP1koPrR",
        "colab": {
          "base_uri": "https://localhost:8080/"
        },
        "outputId": "760e6e54-4144-4f13-a3fb-7fd42d270567"
      },
      "execution_count": null,
      "outputs": [
        {
          "output_type": "stream",
          "name": "stdout",
          "text": [
            "{'имя': 'Александр', 'возраст': 21, 'профессия': 'Программист'}\n"
          ]
        }
      ]
    },
    {
      "cell_type": "markdown",
      "source": [
        "####5. Создайте пустой словарь и добавьте в него пару ключ-значение, введенных пользователем."
      ],
      "metadata": {
        "id": "7UDgxikGoJXz"
      }
    },
    {
      "cell_type": "code",
      "source": [
        "d = {}\n",
        "key = input(\"Введите ключ: \")\n",
        "value = input(\"Введите значение: \")\n",
        "d[key] = value\n",
        "print(d)"
      ],
      "metadata": {
        "id": "AofDComvoP2d",
        "colab": {
          "base_uri": "https://localhost:8080/"
        },
        "outputId": "aabf606d-49e6-4072-fe25-9a9ba74067b6"
      },
      "execution_count": null,
      "outputs": [
        {
          "output_type": "stream",
          "name": "stdout",
          "text": [
            "Введите ключ: животное\n",
            "Введите значение: кот\n",
            "{'животное': 'кот'}\n"
          ]
        }
      ]
    }
  ]
}