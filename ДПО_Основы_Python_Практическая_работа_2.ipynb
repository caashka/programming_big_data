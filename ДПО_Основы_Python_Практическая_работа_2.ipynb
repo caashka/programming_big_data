{
  "nbformat": 4,
  "nbformat_minor": 0,
  "metadata": {
    "colab": {
      "provenance": [],
      "include_colab_link": true
    },
    "kernelspec": {
      "name": "python3",
      "display_name": "Python 3"
    },
    "language_info": {
      "name": "python"
    }
  },
  "cells": [
    {
      "cell_type": "markdown",
      "metadata": {
        "id": "view-in-github",
        "colab_type": "text"
      },
      "source": [
        "<a href=\"https://colab.research.google.com/github/caashka/programming_big_data/blob/main/%D0%94%D0%9F%D0%9E_%D0%9E%D1%81%D0%BD%D0%BE%D0%B2%D1%8B_Python_%D0%9F%D1%80%D0%B0%D0%BA%D1%82%D0%B8%D1%87%D0%B5%D1%81%D0%BA%D0%B0%D1%8F_%D1%80%D0%B0%D0%B1%D0%BE%D1%82%D0%B0_2.ipynb\" target=\"_parent\"><img src=\"https://colab.research.google.com/assets/colab-badge.svg\" alt=\"Open In Colab\"/></a>"
      ]
    },
    {
      "cell_type": "markdown",
      "source": [
        "# **Практическая работа №2. Введение в Python. Циклы в Python: for и while. Функции в Python. Обработка исключений в Python (try, except, else, finally)**\n",
        "\n",
        "---\n",
        "\n",
        "\n"
      ],
      "metadata": {
        "id": "QliphIp1pbse"
      }
    },
    {
      "cell_type": "markdown",
      "source": [
        "**Обучающийся:** *[Введите ваше ФИО]*  "
      ],
      "metadata": {
        "id": "tTK8mNGDqA8Z"
      }
    },
    {
      "cell_type": "markdown",
      "source": [
        "\n",
        "\n",
        "---"
      ],
      "metadata": {
        "id": "wTJjWD61p_dZ"
      }
    },
    {
      "cell_type": "markdown",
      "source": [
        "## **Блок заданий №1. Циклы в Python: for и while**\n",
        "\n"
      ],
      "metadata": {
        "id": "-iXZOjjEoLsS"
      }
    },
    {
      "cell_type": "markdown",
      "source": [
        "### 1. **Сумма чисел от 1 до N**  \n",
        "   Напишите программу, которая запрашивает у пользователя число `N` и с помощью цикла `for` вычисляет сумму всех чисел от 1 до `N`."
      ],
      "metadata": {
        "id": "1Vy5lAnxoTrL"
      }
    },
    {
      "cell_type": "code",
      "source": [
        "N = int(input(\"Введите число N: \"))\n",
        "summ = 0\n",
        "for i in range(1, N + 1):\n",
        "    summ += i\n",
        "print(f\"Сумма чисел от 1 до {N}: {summ}\")"
      ],
      "metadata": {
        "id": "GNtKZwXSoSNg",
        "colab": {
          "base_uri": "https://localhost:8080/"
        },
        "outputId": "cf71e328-3cd7-46f5-adbf-bbc8cfc2d3dc"
      },
      "execution_count": null,
      "outputs": [
        {
          "output_type": "stream",
          "name": "stdout",
          "text": [
            "Введите число N: 10\n",
            "Сумма чисел от 1 до 10: 55\n"
          ]
        }
      ]
    },
    {
      "cell_type": "markdown",
      "source": [
        "\n",
        "### 2. **Вывод четных чисел**  \n",
        "   Используя цикл `while`, напишите программу, которая выводит все четные числа от 1 до 100."
      ],
      "metadata": {
        "id": "JgNf_8IToNQH"
      }
    },
    {
      "cell_type": "code",
      "source": [
        "i = 2\n",
        "while i <= 100:\n",
        "    print(i, end=\" \")\n",
        "    i += 2"
      ],
      "metadata": {
        "id": "0Mgimf-9oWjm",
        "colab": {
          "base_uri": "https://localhost:8080/"
        },
        "outputId": "aa1980e4-7542-4286-8ad9-e4c197f43d07"
      },
      "execution_count": null,
      "outputs": [
        {
          "output_type": "stream",
          "name": "stdout",
          "text": [
            "2 4 6 8 10 12 14 16 18 20 22 24 26 28 30 32 34 36 38 40 42 44 46 48 50 52 54 56 58 60 62 64 66 68 70 72 74 76 78 80 82 84 86 88 90 92 94 96 98 100 "
          ]
        }
      ]
    },
    {
      "cell_type": "markdown",
      "source": [
        "### 3. **Таблица умножения**  \n",
        "   Напишите программу, которая с помощью вложенного цикла `for` выводит таблицу умножения (от 1 до 10)."
      ],
      "metadata": {
        "id": "WvLRnMt8oOpv"
      }
    },
    {
      "cell_type": "markdown",
      "source": [
        "**Пример выходных данных**\n",
        "```\n",
        "   1   2   3   4   5   6   7   8   9  10\n",
        "   2   4   6   8  10  12  14  16  18  20\n",
        "   3   6   9  12  15  18  21  24  27  30\n",
        "   4   8  12  16  20  24  28  32  36  40\n",
        "   5  10  15  20  25  30  35  40  45  50\n",
        "   6  12  18  24  30  36  42  48  54  60\n",
        "   7  14  21  28  35  42  49  56  63  70\n",
        "   8  16  24  32  40  48  56  64  72  80\n",
        "   9  18  27  36  45  54  63  72  81  90\n",
        "  10  20  30  40  50  60  70  80  90 100\n",
        "```\n"
      ],
      "metadata": {
        "id": "lMCzrvNAuiPt"
      }
    },
    {
      "cell_type": "code",
      "source": [
        "for i in range(1, 11):\n",
        "    for j in range(1, 11):\n",
        "        print(f\"{i * j:4}\", end=\"\")\n",
        "    print()"
      ],
      "metadata": {
        "id": "9bTYZUCqoW9l",
        "colab": {
          "base_uri": "https://localhost:8080/"
        },
        "outputId": "d233a602-bc7b-4f33-98e2-f3dc30ae5b83"
      },
      "execution_count": null,
      "outputs": [
        {
          "output_type": "stream",
          "name": "stdout",
          "text": [
            "   1   2   3   4   5   6   7   8   9  10\n",
            "   2   4   6   8  10  12  14  16  18  20\n",
            "   3   6   9  12  15  18  21  24  27  30\n",
            "   4   8  12  16  20  24  28  32  36  40\n",
            "   5  10  15  20  25  30  35  40  45  50\n",
            "   6  12  18  24  30  36  42  48  54  60\n",
            "   7  14  21  28  35  42  49  56  63  70\n",
            "   8  16  24  32  40  48  56  64  72  80\n",
            "   9  18  27  36  45  54  63  72  81  90\n",
            "  10  20  30  40  50  60  70  80  90 100\n"
          ]
        }
      ]
    },
    {
      "cell_type": "markdown",
      "source": [
        "### 4. **Обратный отсчет**  \n",
        "   Напишите программу, которая с помощью цикла `while` выводит обратный отсчет от 10 до 1, а затем выводит сообщение \"Старт!\"."
      ],
      "metadata": {
        "id": "alRU4K6moPoX"
      }
    },
    {
      "cell_type": "code",
      "source": [
        "i = 10\n",
        "while i >= 1:\n",
        "    print(i)\n",
        "    i -= 1\n",
        "print(\"Старт!\")"
      ],
      "metadata": {
        "id": "xlwpaJbkoXja",
        "colab": {
          "base_uri": "https://localhost:8080/"
        },
        "outputId": "14166887-a67b-4d42-ca8b-a3417b957b47"
      },
      "execution_count": null,
      "outputs": [
        {
          "output_type": "stream",
          "name": "stdout",
          "text": [
            "10\n",
            "9\n",
            "8\n",
            "7\n",
            "6\n",
            "5\n",
            "4\n",
            "3\n",
            "2\n",
            "1\n",
            "Старт!\n"
          ]
        }
      ]
    },
    {
      "cell_type": "markdown",
      "source": [
        "\n",
        "\n",
        "### 5. **Поиск максимального числа**  \n",
        "   Напишите программу, которая запрашивает у пользователя 5 чисел и с помощью цикла `for` находит и выводит максимальное из них."
      ],
      "metadata": {
        "id": "ZOrByPyjoQrK"
      }
    },
    {
      "cell_type": "code",
      "source": [
        "max_num = float('-inf')\n",
        "for i in range(5):\n",
        "    num = int(input(f\"Введите число {i + 1}: \"))\n",
        "    if num > max_num:\n",
        "        max_num = num\n",
        "print(f\"Максимальное число: {max_num}\")"
      ],
      "metadata": {
        "id": "nPiZGu03oX6V",
        "colab": {
          "base_uri": "https://localhost:8080/"
        },
        "outputId": "f2781061-e2b8-4bee-8740-3b71cd0df888"
      },
      "execution_count": null,
      "outputs": [
        {
          "output_type": "stream",
          "name": "stdout",
          "text": [
            "Введите число 1: -19999999999999999\n",
            "Введите число 2: 123123\n",
            "Введите число 3: 123\n",
            "Введите число 4: 100\n",
            "Введите число 5: 1\n",
            "Максимальное число: 123123\n"
          ]
        }
      ]
    },
    {
      "cell_type": "markdown",
      "source": [
        "## **Блок заданий №2. Функции в Python**\n"
      ],
      "metadata": {
        "id": "n3_ntES4op47"
      }
    },
    {
      "cell_type": "markdown",
      "source": [
        "При написании функций используйте аннотацию типов, а также добавляйте строку документации."
      ],
      "metadata": {
        "id": "e8JyxIPov56d"
      }
    },
    {
      "cell_type": "markdown",
      "source": [
        "### 1. **Функция для вычисления факториала**  \n",
        "   Напишите функцию `factorial(n)`, которая принимает число `n` и возвращает его факториал. Проверьте работу функции на нескольких примерах.\n",
        "\n",
        "\n",
        "\n",
        "\n",
        "\n",
        "\n",
        "\n"
      ],
      "metadata": {
        "id": "0hZbwgVmocJb"
      }
    },
    {
      "cell_type": "code",
      "source": [
        "def factorial(n: int):\n",
        "    if n == 0:\n",
        "        return 1\n",
        "    return n * factorial(n - 1)\n",
        "\n",
        "print(factorial(5))"
      ],
      "metadata": {
        "id": "-HdkvvY9owo8",
        "colab": {
          "base_uri": "https://localhost:8080/"
        },
        "outputId": "c485dd7a-2e1c-4b4a-b1f9-f6946529e1b1"
      },
      "execution_count": null,
      "outputs": [
        {
          "output_type": "stream",
          "name": "stdout",
          "text": [
            "120\n"
          ]
        }
      ]
    },
    {
      "cell_type": "markdown",
      "source": [
        "### 2. **Функция для проверки четности**  \n",
        "   Напишите функцию `is_even(n)`, которая принимает число `n` и возвращает `True`, если число четное, и `False` в противном случае."
      ],
      "metadata": {
        "id": "xEQgEhEKovb6"
      }
    },
    {
      "cell_type": "code",
      "source": [
        "def is_even(n: int):\n",
        "    return n % 2 == 0\n",
        "\n",
        "print(is_even(4))"
      ],
      "metadata": {
        "id": "Qbgw2_QLow--",
        "colab": {
          "base_uri": "https://localhost:8080/"
        },
        "outputId": "dbfbc330-e16f-4ebc-c7ae-b91dc7207d9f"
      },
      "execution_count": null,
      "outputs": [
        {
          "output_type": "stream",
          "name": "stdout",
          "text": [
            "True\n"
          ]
        }
      ]
    },
    {
      "cell_type": "markdown",
      "source": [
        "### 3. **Функция с именованными аргументами**  \n",
        "   Напишите функцию `person_info(name, age, city=\"Москва\")`, которая принимает имя, возраст и город (по умолчанию \"Москва\"). Функция должна возвращать строку с информацией о человеке.  \n",
        "   \n",
        "   Пример:  \n",
        "```\n",
        "person_info(\"Иван\", 25) → \"Иван, 25 лет, из города Москва\"\n",
        "person_info(\"Мария\", 30, \"Санкт-Петербург\") → \"Мария, 30 лет, из города Санкт-Петербург\"\n",
        "```"
      ],
      "metadata": {
        "id": "-PWnY3LcouSk"
      }
    },
    {
      "cell_type": "code",
      "source": [
        "def person_info(name: str, age: int, city: str = \"Москва\"):\n",
        "    return f\"{name}, {age} лет, из города {city}\"\n",
        "\n",
        "print(person_info(\"Иван\", 25))"
      ],
      "metadata": {
        "id": "8x-s4u8voxUR",
        "colab": {
          "base_uri": "https://localhost:8080/"
        },
        "outputId": "9b856d01-5983-4ca1-9523-a392ffa54c9b"
      },
      "execution_count": null,
      "outputs": [
        {
          "output_type": "stream",
          "name": "stdout",
          "text": [
            "Иван, 25 лет, из города Москва\n"
          ]
        }
      ]
    },
    {
      "cell_type": "markdown",
      "source": [
        "### 4. **Фильтрация четных чисел**  \n",
        "   Напишите функцию `filter_even(*args)`, которая принимает произвольное количество чисел и возвращает список только из четных чисел.  \n",
        "   Пример:  \n",
        "   ```\n",
        "   filter_even(1, 2, 3, 4, 5, 6) → [2, 4, 6]\n",
        "   filter_even(7, 9, 11) → []\n",
        "   ```"
      ],
      "metadata": {
        "id": "DxtROjY3osrS"
      }
    },
    {
      "cell_type": "code",
      "source": [
        "def filter_even(*args: int):\n",
        "    return [x for x in args if x % 2 == 0]\n",
        "\n",
        "print(filter_even(1, 2, 3, 4, 5, 6))"
      ],
      "metadata": {
        "id": "CMROKo1Iox9C",
        "colab": {
          "base_uri": "https://localhost:8080/"
        },
        "outputId": "5d3dd3dd-e04a-4f38-f283-2d393eb02e0e"
      },
      "execution_count": null,
      "outputs": [
        {
          "output_type": "stream",
          "name": "stdout",
          "text": [
            "[2, 4, 6]\n"
          ]
        }
      ]
    },
    {
      "cell_type": "markdown",
      "source": [
        "### 5. **Функция для вычисления статистики**  \n",
        "   Напишите функцию `calculate_stats(*args, **kwargs)`, которая:  \n",
        "   - Из позиционных аргументов вычисляет минимальное, максимальное и среднее значение.  \n",
        "   - Из именованных аргументов возвращает словарь, где ключи — это аргументы, а значения — их типы данных.  \n",
        "   Пример:  \n",
        "   ```\n",
        "   calculate_stats(1, 2, 3, 4, name=\"Иван\", age=25) → ((1, 4, 2.5), {\"name\": \"str\", \"age\": \"int\"})\n",
        "   ```"
      ],
      "metadata": {
        "id": "TPLTxuASorpB"
      }
    },
    {
      "cell_type": "code",
      "source": [
        "def calculate_stats(*args, **kwargs):\n",
        "    min_val, max_val, avg_val = min(args), max(args), sum(args) / len(args)\n",
        "    types = {k: type(v).__name__ for k, v in kwargs.items()}\n",
        "    return (min_val, max_val, avg_val), types\n",
        "\n",
        "print(calculate_stats(1, 2, 3, 4, name=\"Иван\", age=25))"
      ],
      "metadata": {
        "id": "F-1JYEoMoykp",
        "colab": {
          "base_uri": "https://localhost:8080/"
        },
        "outputId": "1c557469-da1c-49c1-e4c7-a7272565412e"
      },
      "execution_count": null,
      "outputs": [
        {
          "output_type": "stream",
          "name": "stdout",
          "text": [
            "((1, 4, 2.5), {'name': 'str', 'age': 'int'})\n"
          ]
        }
      ]
    },
    {
      "cell_type": "markdown",
      "source": [
        "## **Блок заданий №3. Работа с текстовыми файлами в Python**\n"
      ],
      "metadata": {
        "id": "ZwSzb-PToe-5"
      }
    },
    {
      "cell_type": "markdown",
      "source": [
        "### 1. **Запись в файл**  \n",
        "   Напишите программу, которая запрашивает у пользователя строку и записывает её в файл `output.txt`."
      ],
      "metadata": {
        "id": "NO_aT90DpDwS"
      }
    },
    {
      "cell_type": "code",
      "source": [
        "text = input(\"Введите строку: \")\n",
        "with open(\"output.txt\", \"w\", encoding=\"utf-8\") as f:\n",
        "    f.write(text)"
      ],
      "metadata": {
        "id": "CNGiLXnkpUfa",
        "colab": {
          "base_uri": "https://localhost:8080/"
        },
        "outputId": "7e901d2d-c7a3-47b0-db18-608a9d76624d"
      },
      "execution_count": null,
      "outputs": [
        {
          "name": "stdout",
          "output_type": "stream",
          "text": [
            "Введите строку: im string\n"
          ]
        }
      ]
    },
    {
      "cell_type": "markdown",
      "source": [
        "### 2. **Чтение из файла**  \n",
        "   Напишите программу, которая открывает файл `output.txt` и выводит его содержимое на экран."
      ],
      "metadata": {
        "id": "fy_uuck5pE8B"
      }
    },
    {
      "cell_type": "code",
      "source": [
        "with open(\"output.txt\", \"r\", encoding=\"utf-8\") as f:\n",
        "    print(f.read())"
      ],
      "metadata": {
        "id": "-9eB_a1rpUuA",
        "colab": {
          "base_uri": "https://localhost:8080/"
        },
        "outputId": "ce364b4e-437d-41c0-d7d0-7f35c68fbb48"
      },
      "execution_count": null,
      "outputs": [
        {
          "output_type": "stream",
          "name": "stdout",
          "text": [
            "im string\n"
          ]
        }
      ]
    },
    {
      "cell_type": "markdown",
      "source": [
        "### 3. **Подсчет строк в файле**  \n",
        "   Напишите программу, которая открывает файл `output.txt` и подсчитывает количество строк в нём."
      ],
      "metadata": {
        "id": "yaF0YWwYpF7a"
      }
    },
    {
      "cell_type": "code",
      "source": [
        "with open(\"output.txt\", \"r\", encoding=\"utf-8\") as f:\n",
        "    lines = f.readlines()\n",
        "print(f\"Количество строк: {len(lines)}\")"
      ],
      "metadata": {
        "id": "lZsdbitnpU8y",
        "colab": {
          "base_uri": "https://localhost:8080/"
        },
        "outputId": "72e8a1c8-0993-433c-bc68-43b8a2433d57"
      },
      "execution_count": null,
      "outputs": [
        {
          "output_type": "stream",
          "name": "stdout",
          "text": [
            "Количество строк: 1\n"
          ]
        }
      ]
    },
    {
      "cell_type": "markdown",
      "source": [
        "### 4. **Копирование содержимого файла**  \n",
        "   Напишите программу, которая копирует содержимое файла `input.txt` в файл `output.txt`."
      ],
      "metadata": {
        "id": "Ps4aMC32pG3q"
      }
    },
    {
      "cell_type": "code",
      "source": [
        "with open(\"input.txt\", \"r\", encoding=\"utf-8\") as src, \\\n",
        "     open(\"output.txt\", \"w\", encoding=\"utf-8\") as dst:\n",
        "    dst.write(src.read())"
      ],
      "metadata": {
        "id": "x2LuA9ZwpVPz"
      },
      "execution_count": null,
      "outputs": []
    },
    {
      "cell_type": "markdown",
      "source": [
        "### 5. **Поиск слова в файле**  \n",
        "   Напишите программу, которая открывает файл `output.txt` и проверяет, содержится ли в нём слово, введённое пользователем."
      ],
      "metadata": {
        "id": "lWGe5Xj4oIn-"
      }
    },
    {
      "cell_type": "code",
      "source": [
        "word = input(\"Введите слово для поиска: \")\n",
        "with open(\"output.txt\", \"r\", encoding=\"utf-8\") as f:\n",
        "    content = f.read()\n",
        "    if word in content:\n",
        "        print(f\"Слово '{word}' найдено в файле.\")\n",
        "    else:\n",
        "        print(f\"Слово '{word}' не найдено в файле.\")"
      ],
      "metadata": {
        "id": "dqPsCHK2pVha",
        "colab": {
          "base_uri": "https://localhost:8080/"
        },
        "outputId": "ba551dc3-f2e5-4e4d-d9b9-475b6a1f7c1c"
      },
      "execution_count": null,
      "outputs": [
        {
          "output_type": "stream",
          "name": "stdout",
          "text": [
            "Введите слово для поиска: фы\n",
            "Слово 'фы' не найдено в файле.\n"
          ]
        }
      ]
    },
    {
      "cell_type": "markdown",
      "source": [
        "## **Блок заданий №4. Обработка исключений в Python (try, except, else, finally)**\n"
      ],
      "metadata": {
        "id": "1kJHV5F1o2W-"
      }
    },
    {
      "cell_type": "markdown",
      "source": [
        "### 1. **Чтение файла с обработкой FileNotFoundError**  \n",
        "   Напишите программу, которая запрашивает у пользователя имя (или путь к) файла и пытается открыть его. Если файла не существует, перехватите FileNotFoundError и выведите сообщение «Файл не найден!».\n",
        "\n",
        "\n",
        "\n",
        "\n",
        "\n",
        "\n",
        "\n"
      ],
      "metadata": {
        "id": "EpLMWWsYog9c"
      }
    },
    {
      "cell_type": "code",
      "source": [
        "filename = input(\"Введите имя файла: \")\n",
        "try:\n",
        "    with open(filename, \"r\", encoding=\"utf-8\") as f:\n",
        "        print(f.read())\n",
        "except FileNotFoundError:\n",
        "    print(\"Файл не найден!\")"
      ],
      "metadata": {
        "id": "pdSXLhuAo9wL",
        "colab": {
          "base_uri": "https://localhost:8080/"
        },
        "outputId": "712a837b-f2bf-4f99-ceda-9c5ba6b2983d"
      },
      "execution_count": null,
      "outputs": [
        {
          "output_type": "stream",
          "name": "stdout",
          "text": [
            "Введите имя файла: саня\n",
            "Файл не найден!\n"
          ]
        }
      ]
    },
    {
      "cell_type": "markdown",
      "source": [
        "### 2. **Простейший калькулятор с обработкой нескольких исключений**  \n",
        "   Напишите программу, которая спрашивает у пользователя два числа и операцию (+, -, *, /). При попытках сложения или вычитания некорректных значений перехватывайте ValueError, а при делении на ноль — ZeroDivisionError, выводя соответствующие сообщения.\n"
      ],
      "metadata": {
        "id": "_1KEOBCho7wv"
      }
    },
    {
      "cell_type": "code",
      "source": [
        "try:\n",
        "    a = float(input(\"Введите первое число: \"))\n",
        "    b = float(input(\"Введите второе число: \"))\n",
        "    op = input(\"Введите операцию (+, -, *, /): \")\n",
        "    if op == \"+\":\n",
        "        print(a + b)\n",
        "    elif op == \"-\":\n",
        "        print(a - b)\n",
        "    elif op == \"*\":\n",
        "        print(a * b)\n",
        "    elif op == \"/\":\n",
        "        print(a / b)\n",
        "    else:\n",
        "        print(\"Некорректная операция.\")\n",
        "except ValueError:\n",
        "    print(\"Ошибка: введено не число.\")\n",
        "except ZeroDivisionError:\n",
        "    print(\"Ошибка: деление на ноль.\")"
      ],
      "metadata": {
        "id": "WPcrPlXWo-bz",
        "colab": {
          "base_uri": "https://localhost:8080/"
        },
        "outputId": "3d120608-d3a4-491a-f74c-27f750e74efe"
      },
      "execution_count": null,
      "outputs": [
        {
          "output_type": "stream",
          "name": "stdout",
          "text": [
            "Введите первое число: 123\n",
            "Введите второе число: 0\n",
            "Введите операцию (+, -, *, /): /\n",
            "Ошибка: деление на ноль.\n"
          ]
        }
      ]
    },
    {
      "cell_type": "markdown",
      "source": [
        "### 3. **Обработка некорректного индекса (IndexError)**  \n",
        "   Создайте список из нескольких элементов (например, [10, 20, 30]). Попросите пользователя ввести индекс элемента, который нужно вывести. Если пользователь введёт индекс, выходящий за границы списка, перехватите IndexError и сообщите об этом в консоли в свободной форме."
      ],
      "metadata": {
        "id": "I-0e0lcio6tK"
      }
    },
    {
      "cell_type": "code",
      "source": [
        "lst = [10, 20, 30]\n",
        "try:\n",
        "    index = int(input(\"Введите индекс элемента: \"))\n",
        "    print(f\"Элемент: {lst[index]}\")\n",
        "except IndexError:\n",
        "    print(\"Ошибка: индекс выходит за границы списка.\")"
      ],
      "metadata": {
        "id": "8XSXyscqo-2U",
        "colab": {
          "base_uri": "https://localhost:8080/"
        },
        "outputId": "3c02e593-fd4f-4e14-c442-41ddeff73fe8"
      },
      "execution_count": null,
      "outputs": [
        {
          "output_type": "stream",
          "name": "stdout",
          "text": [
            "Введите индекс элемента: 123\n",
            "Ошибка: индекс выходит за границы списка.\n"
          ]
        }
      ]
    },
    {
      "cell_type": "markdown",
      "source": [
        "### 4. **Чтение и запись в файл с обработкой ошибок**  \n",
        "  Напишите программу, которая:  \n",
        "  - Запрашивает у пользователя имя файла.  \n",
        "  - Если файл существует, программа читает его содержимое и выводит на экран.  \n",
        "  - Если файл не существует, программа создает его и записывает в него строку `\"Файл был создан\"`.  \n",
        "  Используйте обработку исключений.\n",
        "\n",
        "  Пример:  \n",
        "    ```\n",
        "    Введите имя файла: data.txt  \n",
        "    Файл не найден. Создан новый файл.\n",
        "    ```"
      ],
      "metadata": {
        "id": "OeQvEFV9o5My"
      }
    },
    {
      "cell_type": "code",
      "source": [
        "filename = input(\"Введите имя файла: \")\n",
        "try:\n",
        "    with open(filename, \"r\", encoding=\"utf-8\") as f:\n",
        "        print(f.read())\n",
        "except FileNotFoundError:\n",
        "    with open(filename, \"w\", encoding=\"utf-8\") as f:\n",
        "        f.write(\"Файл был создан\")\n",
        "    print(\"Файл не найден. Создан новый файл.\")"
      ],
      "metadata": {
        "id": "ttNZVIbQo_LV",
        "colab": {
          "base_uri": "https://localhost:8080/"
        },
        "outputId": "7f7c3094-562b-4ea7-a9c5-1da7a7bf00a3"
      },
      "execution_count": null,
      "outputs": [
        {
          "output_type": "stream",
          "name": "stdout",
          "text": [
            "Введите имя файла: саня.txt\n",
            "Файл не найден. Создан новый файл.\n"
          ]
        }
      ]
    },
    {
      "cell_type": "markdown",
      "source": [
        "\n",
        "### 5. **Обработка исключений в цикле**  \n",
        "  Напишите программу, которая запрашивает у пользователя числа и добавляет их в список.  \n",
        "  - Если пользователь вводит некорректные данные, программа должна выводить сообщение об ошибке и продолжать работу.  \n",
        "  - Для выхода из программы пользователь должен ввести `\"стоп\"`.\n",
        "\n",
        "  Пример:  \n",
        "    ```\n",
        "    Введите число: 10  \n",
        "    Введите число: текст  \n",
        "    Ошибка: это не число.  \n",
        "    Введите число: стоп  \n",
        "    Итоговый список: [10]\n",
        "    ```"
      ],
      "metadata": {
        "id": "-XGCqB2zo4G_"
      }
    },
    {
      "cell_type": "code",
      "source": [
        "numbers = []\n",
        "while True:\n",
        "    user_input = input(\"Введите число (или 'стоп' для выхода): \")\n",
        "    if user_input.lower() == \"стоп\":\n",
        "        break\n",
        "    try:\n",
        "        num = float(user_input)\n",
        "        numbers.append(num)\n",
        "    except ValueError:\n",
        "        print(\"Ошибка: это не число.\")\n",
        "print(f\"Итоговый список: {numbers}\")"
      ],
      "metadata": {
        "id": "93pustD1o_hy",
        "colab": {
          "base_uri": "https://localhost:8080/"
        },
        "outputId": "eb251f65-c600-47b3-d642-fbbab7f7fb83"
      },
      "execution_count": null,
      "outputs": [
        {
          "output_type": "stream",
          "name": "stdout",
          "text": [
            "Введите число (или 'стоп' для выхода): 123\n",
            "Введите число (или 'стоп' для выхода): фыв\n",
            "Ошибка: это не число.\n",
            "Введите число (или 'стоп' для выхода): 123\n",
            "Введите число (или 'стоп' для выхода): стоп\n",
            "Итоговый список: [123.0, 123.0]\n"
          ]
        }
      ]
    }
  ]
}