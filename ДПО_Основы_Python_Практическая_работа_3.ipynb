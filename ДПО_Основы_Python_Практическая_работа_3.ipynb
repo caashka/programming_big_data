{
  "nbformat": 4,
  "nbformat_minor": 0,
  "metadata": {
    "colab": {
      "provenance": [],
      "include_colab_link": true
    },
    "kernelspec": {
      "name": "python3",
      "display_name": "Python 3"
    },
    "language_info": {
      "name": "python"
    }
  },
  "cells": [
    {
      "cell_type": "markdown",
      "metadata": {
        "id": "view-in-github",
        "colab_type": "text"
      },
      "source": [
        "<a href=\"https://colab.research.google.com/github/caashka/programming_big_data/blob/main/%D0%94%D0%9F%D0%9E_%D0%9E%D1%81%D0%BD%D0%BE%D0%B2%D1%8B_Python_%D0%9F%D1%80%D0%B0%D0%BA%D1%82%D0%B8%D1%87%D0%B5%D1%81%D0%BA%D0%B0%D1%8F_%D1%80%D0%B0%D0%B1%D0%BE%D1%82%D0%B0_3.ipynb\" target=\"_parent\"><img src=\"https://colab.research.google.com/assets/colab-badge.svg\" alt=\"Open In Colab\"/></a>"
      ]
    },
    {
      "cell_type": "markdown",
      "source": [
        "# **Практическая работа №3. Введение в Python. Модули и пакеты**\n",
        "\n",
        "---\n",
        "\n",
        "\n"
      ],
      "metadata": {
        "id": "QliphIp1pbse"
      }
    },
    {
      "cell_type": "markdown",
      "source": [
        "**Обучающийся:** *[Введите ваше ФИО]*  "
      ],
      "metadata": {
        "id": "tTK8mNGDqA8Z"
      }
    },
    {
      "cell_type": "markdown",
      "source": [
        "\n",
        "\n",
        "---"
      ],
      "metadata": {
        "id": "wTJjWD61p_dZ"
      }
    },
    {
      "cell_type": "markdown",
      "source": [
        "## **Цель работы:**\n"
      ],
      "metadata": {
        "id": "8sycqVegUH85"
      }
    },
    {
      "cell_type": "markdown",
      "source": [
        "Создать Python-пакет, включающий функции для преобразования координат между декартовой и сферической системами, а также для работы с файлами. Реализовать консольный интерфейс для взаимодействия с функциями пакета."
      ],
      "metadata": {
        "id": "bdHCMBx4UJTb"
      }
    },
    {
      "cell_type": "markdown",
      "source": [
        "## **Задачи:**\n"
      ],
      "metadata": {
        "id": "aziouLamURhA"
      }
    },
    {
      "cell_type": "markdown",
      "source": [
        "1. Создать структуру пакета с необходимыми модулями.\n",
        "2. Реализовать функции для преобразования координат.\n",
        "3. Реализовать функции для работы с файлами.\n",
        "4. Создать файл `__main__.py` с консольным интерфейсом для работы с пакетом.\n",
        "5. Проверить работоспособность пакета на примере."
      ],
      "metadata": {
        "id": "ZyNB5M23US9G"
      }
    },
    {
      "cell_type": "markdown",
      "source": [
        "## **Теоретическая часть:**"
      ],
      "metadata": {
        "id": "AoEP4riFYmrE"
      }
    },
    {
      "cell_type": "markdown",
      "source": [
        "1. **Преобразование декартовых координат в сферические:**\n",
        "\n",
        "   *Формулы для преобразования:*\n",
        "\n",
        "   $\n",
        "   r = \\sqrt{x^2 + y^2 + z^2}\n",
        "   $\n",
        "\n",
        "   - Эта формула вычисляет радиус $r$ от начала координат до точки с координатами $(x, y, z)$ в декартовой системе. Это расстояние в пространстве.\n",
        "\n",
        "   $\n",
        "   \\theta = 2 \\cdot \\text{atan2}(y, x + \\sqrt{x^2 + y^2})\n",
        "   $\n",
        "\n",
        "   - Формула для $\\theta$ (азимутальный угол) использует функцию $\\text{atan2}$, которая возвращает угол в радианах между положительной осью $x$ и точкой $(x, y)$. Умножение на 2 и добавление $\\sqrt{x^2 + y^2}$ в знаменатель обеспечивает корректное определение угла в диапазоне от 0 до $2\\pi$.\n",
        "\n",
        "   $\n",
        "   \\phi = \\text{atan2}(\\sqrt{x^2 + y^2}, z)\n",
        "   $\n",
        "\n",
        "   - Формула для $\\phi$ (полярный угол) также использует $\\text{atan2}$, но здесь она вычисляет угол между положительной осью $z$ и вектором от начала координат до точки. Это значение также получается в радианах.\n",
        "\n",
        "   **Значения $\\theta$ и $\\phi$ получаются в радианах. Для перевода их в градусы необходимо умножить на $\\frac{180}{\\pi}$.**\n",
        "\n",
        "\n",
        "\n"
      ],
      "metadata": {
        "id": "pEAfpUD_UYNL"
      }
    },
    {
      "cell_type": "markdown",
      "source": [
        "2. **Преобразование сферических координат в декартовые:**\n",
        "\n",
        "  *Формулы для преобразования:*\n",
        "\n",
        "   $\n",
        "   x = r \\cdot \\sin(\\phi) \\cdot \\cos(\\theta)\n",
        "   $\n",
        "   \n",
        "   - Эта формула вычисляет координату $x$ в декартовой системе, используя радиус $r$, полярный угол $\\phi$ и азимутальный угол $\\theta$.\n",
        "\n",
        "   $\n",
        "   y = r \\cdot \\sin(\\phi) \\cdot \\sin(\\theta)\n",
        "   $\n",
        "\n",
        "   - Аналогично, эта формула вычисляет координату $y$ в декартовой системе.\n",
        "\n",
        "   $\n",
        "   z = r \\cdot \\cos(\\phi)\n",
        "   $\n",
        "   \n",
        "   - Эта формула вычисляет координату $z$ в декартовой системе, используя радиус $r$ и полярный угол $\\phi$.\n",
        "\n",
        "   **Значения $\\theta$ и $\\phi$ должны быть заданы в радианах. Если они заданы в градусах, их необходимо предварительно перевести в радианы, умножив на $\\frac{\\pi}{180}$.**"
      ],
      "metadata": {
        "id": "PNgijVwBZQxC"
      }
    },
    {
      "cell_type": "markdown",
      "source": [
        "3. **Преобразование между градусами и радианами:**\n",
        "\n",
        "   $\n",
        "   \\text{градусы} \\rightarrow \\text{радианы}: \\text{degrees} \\cdot \\frac{\\pi}{180}\n",
        "   $\n",
        "   - Эта формула используется для перевода углов из градусов в радианы.\n",
        "\n",
        "   $\n",
        "   \\text{радианы} \\rightarrow \\text{градусы}: \\text{radians} \\cdot \\frac{180}{\\pi}\n",
        "   $\n",
        "   - Эта формула используется для перевода углов из радиан в градусы."
      ],
      "metadata": {
        "id": "km-P3kvIZOo9"
      }
    },
    {
      "cell_type": "code",
      "source": [
        "import math\n",
        "\n",
        "# Пример расчета синуса и косинуса от угла в градусах\n",
        "angle_degrees = 45  # Угол в градусах\n",
        "\n",
        "# Преобразование градусов в радианы\n",
        "angle_radians = math.radians(angle_degrees)\n",
        "\n",
        "# Расчет синуса и косинуса\n",
        "sin_value = math.sin(angle_radians)\n",
        "cos_value = math.cos(angle_radians)\n",
        "\n",
        "print(f\"Синус {angle_degrees} градусов: {sin_value}\")\n",
        "print(f\"Косинус {angle_degrees} градусов: {cos_value}\")"
      ],
      "metadata": {
        "colab": {
          "base_uri": "https://localhost:8080/"
        },
        "id": "UbLbordBWolF",
        "outputId": "eaffb883-19d2-4db6-f7fc-aea46bcc519b"
      },
      "execution_count": null,
      "outputs": [
        {
          "output_type": "stream",
          "name": "stdout",
          "text": [
            "Синус 45 градусов: 0.7071067811865475\n",
            "Косинус 45 градусов: 0.7071067811865476\n"
          ]
        }
      ]
    },
    {
      "cell_type": "code",
      "source": [
        "# Пример расчета atan2 и преобразования результата в градусы\n",
        "y = 1\n",
        "x = 5\n",
        "\n",
        "# Расчет atan2 в радианах\n",
        "atan2_radians = math.atan2(y, x)\n",
        "\n",
        "# Преобразование результата atan2 в градусы\n",
        "atan2_degrees = math.degrees(atan2_radians)\n",
        "\n",
        "print(f\"atan2({y}, {x}) в радианах: {atan2_radians}\")\n",
        "print(f\"atan2({y}, {x}) в градусах: {atan2_degrees}\")"
      ],
      "metadata": {
        "colab": {
          "base_uri": "https://localhost:8080/"
        },
        "id": "r6gfmCU2XN-j",
        "outputId": "114780a3-a4c2-4406-c3cc-80db7e9b92b2"
      },
      "execution_count": null,
      "outputs": [
        {
          "output_type": "stream",
          "name": "stdout",
          "text": [
            "atan2(1, 5) в радианах: 0.19739555984988075\n",
            "atan2(1, 5) в градусах: 11.309932474020213\n"
          ]
        }
      ]
    },
    {
      "cell_type": "markdown",
      "source": [
        "\n",
        "\n",
        "## **Практическая часть:**\n",
        "\n"
      ],
      "metadata": {
        "id": "xjcf5dryT4q6"
      }
    },
    {
      "cell_type": "markdown",
      "source": [
        "1. **Создание структуры пакета:**\n",
        "   Создайте директорию `geo_transform` и в ней следующие файлы:\n",
        "   - `__init__.py`\n",
        "   - `transformations.py`\n",
        "   - `utils.py`\n",
        "   - `file_operations.py`\n",
        "   - `__main__.py`\n",
        "\n",
        "2. **Реализация функций преобразования координат:**\n",
        "   В файле `transformations.py` реализуйте функции `cartesian_to_spherical` и `spherical_to_cartesian` с использованием приведенных выше формул.\n",
        "\n",
        "3. **Реализация вспомогательных функций:**\n",
        "   В файле `utils.py` реализуйте функции `deg_to_rad` и `rad_to_deg`.\n",
        "\n",
        "4. **Реализация функций для работы с файлами:**\n",
        "   В файле `file_operations.py` реализуйте функции `write_results_to_file` и `read_coordinates_from_file` для записи и чтения координат из текстовых файлов.\n",
        "\n",
        "5. **Создание `__init__.py`:**\n",
        "   В файле `__init__.py` добавьте импорты всех необходимых функций из других модулей.\n",
        "\n",
        "6. **Реализация консольного интерфейса в `__main__.py`:**\n",
        "   В файле `__main__.py` реализуйте консольный интерфейс для работы с функциями пакета.\n",
        "\n",
        "7. **Проверка работоспособности пакета:**\n",
        "   Запустите пакет как отдельную программу. Проверьте все функции через консольный интерфейс. Импортируйте пакет в стороннем модуле, убедитесь, что все функции работают корректно."
      ],
      "metadata": {
        "id": "3DlYz5qrVG-C"
      }
    },
    {
      "cell_type": "markdown",
      "source": [
        "\n",
        "\n",
        "## **Демонстрация результата:**\n",
        "\n"
      ],
      "metadata": {
        "id": "iIyfPBIGbPdQ"
      }
    },
    {
      "cell_type": "markdown",
      "source": [
        "Вставьте код каждого из ваших модулей в соответствующие ячейки ниже.\n",
        "\n",
        "**Строку, начинающуюся на %%writefile... стирать запрещено**"
      ],
      "metadata": {
        "id": "1ARiSwg3bKML"
      }
    },
    {
      "cell_type": "markdown",
      "source": [
        "### **Содержимое модуля \\_\\_init__.py:**"
      ],
      "metadata": {
        "id": "kcPKYl5abzNp"
      }
    },
    {
      "cell_type": "code",
      "source": [
        "!mkdir geo_transform"
      ],
      "metadata": {
        "id": "T5t41w-tbD5I"
      },
      "execution_count": null,
      "outputs": []
    },
    {
      "cell_type": "code",
      "source": [
        "%%writefile geo_transform/__init__.py\n",
        "from .transformations import cartesian_to_spherical, spherical_to_cartesian\n",
        "from .utils import deg_to_rad, rad_to_deg\n",
        "from .file_operations import write_coordinates_to_file, read_coordinates_from_fil\n",
        "from .__main__ import show\n",
        "\n",
        "\n",
        "__all__ = [\n",
        "    \"cartesian_to_spherical\",\n",
        "    \"spherical_to_cartesian\",\n",
        "    \"deg_to_rad\",\n",
        "    \"rad_to_deg\",\n",
        "    \"write_coordinates_to_file\",\n",
        "    \"read_coordinates_from_file\",\n",
        "    \"show\"\n",
        "]"
      ],
      "metadata": {
        "id": "p_UraYekagmv",
        "colab": {
          "base_uri": "https://localhost:8080/"
        },
        "outputId": "fdb2a412-93ba-49cd-ebdc-b70dbf61fac3"
      },
      "execution_count": null,
      "outputs": [
        {
          "output_type": "stream",
          "name": "stdout",
          "text": [
            "Overwriting geo_transform/__init__.py\n"
          ]
        }
      ]
    },
    {
      "cell_type": "markdown",
      "source": [
        "### **Содержимое модуля transformations.py:**"
      ],
      "metadata": {
        "id": "GfgJWdI7cHoW"
      }
    },
    {
      "cell_type": "code",
      "source": [
        "%%writefile geo_transform/transformations.py\n",
        "from math import sqrt, atan2, sin, cos\n",
        "\n",
        "def cartesian_to_spherical(x, y, z):\n",
        "  r = sqrt(x**2 + y**2 + z**2)\n",
        "  theta = 2 * atan2(y, x + sqrt(x**2 + y**2))\n",
        "  phi = atan2(sqrt(x**2 + y**2), z)\n",
        "  return r, theta, phi\n",
        "\n",
        "def spherical_to_cartesian(r, theta, phi):\n",
        "  x = r * sin(phi) * cos(theta)\n",
        "  y = r * sin(phi) * sin(theta)\n",
        "  z = r * cos(phi)\n",
        "  return x, y, z\n",
        "\n",
        "\n",
        "__all__ = ['cartesian_to_spherical', 'spherical_to_cartesian']"
      ],
      "metadata": {
        "id": "PEwM6HmucHoX",
        "colab": {
          "base_uri": "https://localhost:8080/"
        },
        "outputId": "fb7b00b5-0a06-4bcc-defc-da27cdbf5bd8"
      },
      "execution_count": null,
      "outputs": [
        {
          "output_type": "stream",
          "name": "stdout",
          "text": [
            "Writing geo_transform/transformations.py\n"
          ]
        }
      ]
    },
    {
      "cell_type": "markdown",
      "source": [
        "### **Содержимое модуля utils.py:**"
      ],
      "metadata": {
        "id": "tw_9FXFkcIBq"
      }
    },
    {
      "cell_type": "code",
      "source": [
        "%%writefile geo_transform/utils.py\n",
        "from math import pi\n",
        "\n",
        "def deg_to_rad(deg):\n",
        "  return deg * pi / 180\n",
        "\n",
        "def rad_to_deg(rad):\n",
        "  return rad * 180 / pi\n",
        "\n",
        "\n",
        "__all__ = ['deg_to_rad', 'rad_to_deg']"
      ],
      "metadata": {
        "id": "y96uQcmTcIBr",
        "colab": {
          "base_uri": "https://localhost:8080/"
        },
        "outputId": "ec894571-bc58-4b96-89e6-508088b50406"
      },
      "execution_count": null,
      "outputs": [
        {
          "output_type": "stream",
          "name": "stdout",
          "text": [
            "Writing geo_transform/utils.py\n"
          ]
        }
      ]
    },
    {
      "cell_type": "markdown",
      "source": [
        "### **Содержимое модуля file_operations.py:**"
      ],
      "metadata": {
        "id": "kmYf0AOwcIOg"
      }
    },
    {
      "cell_type": "code",
      "source": [
        "%%writefile geo_transform/file_operations.py\n",
        "def read_coordinates_from_file(filename):\n",
        "  with open(filename, \"r\", encoding=\"utf-8\") as f:\n",
        "    file = f.read()\n",
        "    coordinates = []\n",
        "    lines = file.strip().split('\\n')\n",
        "    for line in lines:\n",
        "      value = list(map(float, (line.split(' '))))\n",
        "      coordinates.append(value)\n",
        "    return coordinates\n",
        "\n",
        "def write_coordinates_to_file(filename, coordinates):\n",
        "  with open(filename, \"w\", encoding=\"utf-8\") as f:\n",
        "    for line in coordinates:\n",
        "      line_str = \" \".join(map(str, line))\n",
        "      f.write(line_str + \"\\n\")\n",
        "\n",
        "  __all__ = ['read_coordinates_from_file', 'write_coordinates_to_file']"
      ],
      "metadata": {
        "id": "HkmXurkjcIOg",
        "colab": {
          "base_uri": "https://localhost:8080/"
        },
        "outputId": "74a5202f-c730-4773-b915-e8839246ecd8"
      },
      "execution_count": null,
      "outputs": [
        {
          "output_type": "stream",
          "name": "stdout",
          "text": [
            "Writing geo_transform/file_operations.py\n"
          ]
        }
      ]
    },
    {
      "cell_type": "markdown",
      "source": [
        "### **Содержимое модуля \\_\\_main__.py:**"
      ],
      "metadata": {
        "id": "qUQb0g_RcaUd"
      }
    },
    {
      "cell_type": "code",
      "source": [
        "%%writefile geo_transform/__main__.py\n",
        "try:\n",
        "  from .transformations import cartesian_to_spherical, spherical_to_cartesian\n",
        "  from .utils import deg_to_rad, rad_to_deg\n",
        "  from .file_operations import write_coordinates_to_file, read_coordinates_from_file\n",
        "except:\n",
        "  from transformations import cartesian_to_spherical, spherical_to_cartesian\n",
        "  from utils import deg_to_rad, rad_to_deg\n",
        "  from file_operations import write_coordinates_to_file, read_coordinates_from_file\n",
        "\n",
        "__all__ = ['show']\n",
        "\n",
        "def show():\n",
        "    x, y, z, = 0, 0, 0\n",
        "    r, theta, phi = 0, 0, 0\n",
        "    while True:\n",
        "        print(f\"Ваши текущие координаты:\\n x={x} y={y} z={z}\\n r={r} theta={theta} phi={phi}\")\n",
        "        print(\"\\nВыберите действие:\")\n",
        "        print(\"1. Преобразовать декартовы координаты в сферические\")\n",
        "        print(\"2. Преобразовать сферические координаты в декартовы\")\n",
        "        print(\"3. Записать результаты в файл\")\n",
        "        print(\"4. Считать координаты из файла\")\n",
        "        print(\"5. Выйти\")\n",
        "        choice = input(\"Введите номер действия: \")\n",
        "        if choice == '1':\n",
        "            x = float(input(\"Введите x: \"))\n",
        "            y = float(input(\"Введите y: \"))\n",
        "            z = float(input(\"Введите z: \"))\n",
        "            while True:\n",
        "              sub_choice = input(\"Перевести в градусы? (y/n)\").lower()\n",
        "              if((sub_choice == \"yes\") or (sub_choice == \"y\") or (sub_choice == \"да\")):\n",
        "                r, theta, phi = cartesian_to_spherical(x, y, z)\n",
        "                print(f\"Сферические координаты: r={r}, theta={theta}, phi={phi}\")\n",
        "                break\n",
        "              elif ((sub_choice == \"no\") or (sub_choice == \"n\") or (sub_choice == \"нет\")):\n",
        "                r, theta, phi = cartesian_to_spherical(x, y, z)\n",
        "                theta, phi = rad_to_deg(theta), rad_to_deg(phi)\n",
        "                print(f\"Сферические координаты: r={r}, theta={theta}, phi={phi}\")\n",
        "                break\n",
        "              else:\n",
        "                print('Неверынй выбор')\n",
        "        elif choice == '2':\n",
        "            r = float(input(\"Введите r: \"))\n",
        "            theta = float(input(\"Введите theta: \"))\n",
        "            phi = float(input(\"Введите phi: \"))\n",
        "            while True:\n",
        "              sub_choice = input(\"theta и phi указаны радианах? (y/n)\").lower()\n",
        "              if((sub_choice == \"yes\") or (sub_choice == \"y\") or (sub_choice == \"да\")):\n",
        "                x, y, z = spherical_to_cartesian(r, theta, phi)\n",
        "                print(f\"Декартовы координаты: x={x}, y={y}, z={z}\")\n",
        "                break\n",
        "              elif ((sub_choice == \"no\") or (sub_choice == \"n\") or (sub_choice == \"нет\")):\n",
        "                theta, phi = deg_to_rad(theta), deg_to_rad(phi)\n",
        "                x, y, z = spherical_to_cartesian(r, theta, phi)\n",
        "                print(f\"Декартовы координаты: x={x}, y={y}, z={z}\")\n",
        "                break\n",
        "              else:\n",
        "                print('Неверынй выбор')\n",
        "        elif choice == '3':\n",
        "            filename = input(\"Введите имя файла: \")\n",
        "            sub_choice = int(input(\"Выбирите какие координаьы записать в файл\\n1. Декартовы\\n 2. СФеричиские\\n Ввод: \"))\n",
        "            while True:\n",
        "              if (sub_choice == 1):\n",
        "                data = [[r, theta, phi]]\n",
        "                write_coordinates_to_file(filename, data)\n",
        "                break\n",
        "              elif (sub_choice == 2):\n",
        "                data = [[x, y, z]]\n",
        "                write_coordinates_to_file(filename, data)\n",
        "                break\n",
        "              else:\n",
        "                print('Неверный выбор')\n",
        "            print(f\"Данные записаны в файл - {filename}\")\n",
        "        elif choice == '4':\n",
        "            filename = input(\"Введите имя файла: \")\n",
        "            data = read_coordinates_from_file(filename)\n",
        "            print(f\"Данные из файла: {data}\")\n",
        "        elif choice == '5':\n",
        "            break\n",
        "        else:\n",
        "            print(\"Неверный выбор. Попробуйте снова.\")\n",
        "\n",
        "\n",
        "if __name__ == '__main__':\n",
        "  show()"
      ],
      "metadata": {
        "id": "qzNV09hfcaUe",
        "colab": {
          "base_uri": "https://localhost:8080/"
        },
        "outputId": "5b519e29-692c-46f2-9136-be442d75b925"
      },
      "execution_count": null,
      "outputs": [
        {
          "output_type": "stream",
          "name": "stdout",
          "text": [
            "Writing geo_transform/__main__.py\n"
          ]
        }
      ]
    },
    {
      "cell_type": "markdown",
      "source": [
        "### **Содержимое модуля main.py (с импортом пакета и тестированием функций из него):**"
      ],
      "metadata": {
        "id": "vGqPXMcdcpxE"
      }
    },
    {
      "cell_type": "code",
      "source": [
        "from geo_transform.__main__ import show\n",
        "\n",
        "show()"
      ],
      "metadata": {
        "colab": {
          "base_uri": "https://localhost:8080/"
        },
        "id": "usjQ81zqiJtb",
        "outputId": "aa3889e0-92b4-4e73-cf2c-558561a5ee75"
      },
      "execution_count": null,
      "outputs": [
        {
          "name": "stdout",
          "output_type": "stream",
          "text": [
            "Ваши текущие координаты:\n",
            " x=0 y=0 z=0\n",
            " r=0 theta=0 phi=0\n",
            "\n",
            "Выберите действие:\n",
            "1. Преобразовать декартовы координаты в сферические\n",
            "2. Преобразовать сферические координаты в декартовы\n",
            "3. Записать результаты в файл\n",
            "4. Считать координаты из файла\n",
            "5. Выйти\n",
            "Введите номер действия: 5\n"
          ]
        }
      ]
    },
    {
      "cell_type": "code",
      "source": [],
      "metadata": {
        "id": "O8LmmjnakxpC"
      },
      "execution_count": null,
      "outputs": []
    }
  ]
}