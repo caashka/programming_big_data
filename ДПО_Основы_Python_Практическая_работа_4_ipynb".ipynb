{
  "nbformat": 4,
  "nbformat_minor": 0,
  "metadata": {
    "colab": {
      "provenance": [],
      "include_colab_link": true
    },
    "kernelspec": {
      "name": "python3",
      "display_name": "Python 3"
    },
    "language_info": {
      "name": "python"
    }
  },
  "cells": [
    {
      "cell_type": "markdown",
      "metadata": {
        "id": "view-in-github",
        "colab_type": "text"
      },
      "source": [
        "<a href=\"https://colab.research.google.com/github/caashka/programming_big_data/blob/main/%D0%94%D0%9F%D0%9E_%D0%9E%D1%81%D0%BD%D0%BE%D0%B2%D1%8B_Python_%D0%9F%D1%80%D0%B0%D0%BA%D1%82%D0%B8%D1%87%D0%B5%D1%81%D0%BA%D0%B0%D1%8F_%D1%80%D0%B0%D0%B1%D0%BE%D1%82%D0%B0_4_ipynb%22.ipynb\" target=\"_parent\"><img src=\"https://colab.research.google.com/assets/colab-badge.svg\" alt=\"Open In Colab\"/></a>"
      ]
    },
    {
      "cell_type": "markdown",
      "source": [
        "# **Практическая работа №4. Введение в Python. ООП рефакторинг**\n",
        "\n",
        "---\n",
        "\n",
        "\n"
      ],
      "metadata": {
        "id": "QliphIp1pbse"
      }
    },
    {
      "cell_type": "markdown",
      "source": [
        "**Обучающийся:** *[Введите ваше ФИО]*  "
      ],
      "metadata": {
        "id": "tTK8mNGDqA8Z"
      }
    },
    {
      "cell_type": "markdown",
      "source": [
        "\n",
        "\n",
        "---"
      ],
      "metadata": {
        "id": "wTJjWD61p_dZ"
      }
    },
    {
      "cell_type": "markdown",
      "source": [
        "## **Цель работы:**\n"
      ],
      "metadata": {
        "id": "hus_oUIb6-uw"
      }
    },
    {
      "cell_type": "markdown",
      "source": [
        "\n",
        "Провести рефакторинг ранее созданного Python-пакета в предыдущей практической работе, преобразовав его функциональность в соответствии с принципами объектно-ориентированного программирования. Обновленный пакет должен включать классы и методы для преобразования координат между декартовой и сферической системами координат, а также для работы с файлами."
      ],
      "metadata": {
        "id": "Jr6dLMMD69Z3"
      }
    },
    {
      "cell_type": "markdown",
      "source": [
        "\n",
        "\n",
        "## **Задачи:**\n"
      ],
      "metadata": {
        "id": "DZ02tlQN6_tI"
      }
    },
    {
      "cell_type": "markdown",
      "source": [
        "\n",
        "1. Анализ существующего пакета и определение необходимых изменений для перехода на ООП-парадигму.\n",
        "\n",
        "2. Создание новой структуры пакета с использованием классов и модулей, соответствующих принципам ООП.\n",
        "\n",
        "3. Реализация классов и методов для преобразования координат между декартовой и сферической системами координат.\n",
        "\n",
        "4. Реализация классов и методов для работы с файлами, обеспечивая удобный интерфейс для чтения и записи данных.\n",
        "\n",
        "5. Создание файла `__main__.py` с консольным интерфейсом для взаимодействия с функциональностью пакета.\n",
        "\n",
        "6. Тестирование и проверка работоспособности обновленного пакета на примерах, подтверждение корректности реализации."
      ],
      "metadata": {
        "id": "DCh4tfl06v45"
      }
    },
    {
      "cell_type": "markdown",
      "source": [
        "\n",
        "\n",
        "## **Демонстрация результата:**\n",
        "\n"
      ],
      "metadata": {
        "id": "iIyfPBIGbPdQ"
      }
    },
    {
      "cell_type": "markdown",
      "source": [
        "Вставьте код каждого из ваших модулей в соответствующие ячейки ниже.\n",
        "\n",
        "**Строку, начинающуюся на %%writefile... стирать запрещено**"
      ],
      "metadata": {
        "id": "1ARiSwg3bKML"
      }
    },
    {
      "cell_type": "markdown",
      "source": [
        "### **Содержимое модуля \\_\\_init__.py:**"
      ],
      "metadata": {
        "id": "kcPKYl5abzNp"
      }
    },
    {
      "cell_type": "code",
      "source": [
        "!mkdir geo_transform"
      ],
      "metadata": {
        "id": "T5t41w-tbD5I",
        "outputId": "3593e6e6-9230-4a8c-d05c-1d690fbae56c",
        "colab": {
          "base_uri": "https://localhost:8080/"
        }
      },
      "execution_count": 2,
      "outputs": [
        {
          "output_type": "stream",
          "name": "stdout",
          "text": [
            "mkdir: cannot create directory ‘geo_transform’: File exists\n"
          ]
        }
      ]
    },
    {
      "cell_type": "code",
      "source": [
        "%%writefile geo_transform/__init__.py\n",
        "from .transformations import CartesianCoordinates, SphericalCoordinates\n",
        "from .utils import AngleConverter\n",
        "from .file_operations import CoordinateFileManager\n",
        "from .__main__ import show\n",
        "\n",
        "__all__ = [\n",
        "    \"CartesianCoordinates\",\n",
        "    \"SphericalCoordinates\",\n",
        "    \"AngleConverter\",\n",
        "    \"CoordinateFileManager\",\n",
        "    \"show\"\n",
        "]"
      ],
      "metadata": {
        "id": "p_UraYekagmv",
        "outputId": "a3961556-7fa6-4982-aab8-cd810f8a9f08",
        "colab": {
          "base_uri": "https://localhost:8080/"
        }
      },
      "execution_count": 3,
      "outputs": [
        {
          "output_type": "stream",
          "name": "stdout",
          "text": [
            "Writing geo_transform/__init__.py\n"
          ]
        }
      ]
    },
    {
      "cell_type": "markdown",
      "source": [
        "### **Содержимое модуля transformations.py:**"
      ],
      "metadata": {
        "id": "GfgJWdI7cHoW"
      }
    },
    {
      "cell_type": "code",
      "source": [
        "%%writefile geo_transform/transformations.py\n",
        "from math import sqrt, atan2, sin, cos\n",
        "\n",
        "class CartesianCoordinates:\n",
        "    def __init__(self, x=0, y=0, z=0):\n",
        "        self.x = x\n",
        "        self.y = y\n",
        "        self.z = z\n",
        "\n",
        "    def to_spherical(self):\n",
        "        r = sqrt(self.x**2 + self.y**2 + self.z**2)\n",
        "        theta = 2 * atan2(self.y, self.x + sqrt(self.x**2 + self.y**2))\n",
        "        phi = atan2(sqrt(self.x**2 + self.y**2), self.z)\n",
        "        return SphericalCoordinates(r, theta, phi)\n",
        "\n",
        "    def __repr__(self):\n",
        "        return f\"CartesianCoordinates(x={self.x}, y={self.y}, z={self.z})\"\n",
        "\n",
        "\n",
        "class SphericalCoordinates:\n",
        "    def __init__(self, r=0, theta=0, phi=0):\n",
        "        self.r = r\n",
        "        self.theta = theta\n",
        "        self.phi = phi\n",
        "\n",
        "    def to_cartesian(self):\n",
        "        x = self.r * sin(self.phi) * cos(self.theta)\n",
        "        y = self.r * sin(self.phi) * sin(self.theta)\n",
        "        z = self.r * cos(self.phi)\n",
        "        return CartesianCoordinates(x, y, z)\n",
        "\n",
        "    def __repr__(self):\n",
        "        return f\"SphericalCoordinates(r={self.r}, theta={self.theta}, phi={self.phi})\""
      ],
      "metadata": {
        "id": "PEwM6HmucHoX",
        "outputId": "1ae2b944-99bd-4161-eedb-256f6066c07c",
        "colab": {
          "base_uri": "https://localhost:8080/"
        }
      },
      "execution_count": 4,
      "outputs": [
        {
          "output_type": "stream",
          "name": "stdout",
          "text": [
            "Writing geo_transform/transformations.py\n"
          ]
        }
      ]
    },
    {
      "cell_type": "markdown",
      "source": [
        "### **Содержимое модуля utils.py:**"
      ],
      "metadata": {
        "id": "tw_9FXFkcIBq"
      }
    },
    {
      "cell_type": "code",
      "source": [
        "%%writefile geo_transform/utils.py\n",
        "from math import pi\n",
        "\n",
        "class AngleConverter:\n",
        "    @staticmethod\n",
        "    def deg_to_rad(deg):\n",
        "        return deg * pi / 180\n",
        "\n",
        "    @staticmethod\n",
        "    def rad_to_deg(rad):\n",
        "        return rad * 180 / pi"
      ],
      "metadata": {
        "id": "y96uQcmTcIBr",
        "outputId": "11107130-b593-4516-c1c0-2748b2753bae",
        "colab": {
          "base_uri": "https://localhost:8080/"
        }
      },
      "execution_count": 5,
      "outputs": [
        {
          "output_type": "stream",
          "name": "stdout",
          "text": [
            "Writing geo_transform/utils.py\n"
          ]
        }
      ]
    },
    {
      "cell_type": "markdown",
      "source": [
        "### **Содержимое модуля file_operations.py:**"
      ],
      "metadata": {
        "id": "kmYf0AOwcIOg"
      }
    },
    {
      "cell_type": "code",
      "source": [
        "%%writefile geo_transform/file_operations.py\n",
        "class CoordinateFileManager:\n",
        "    @staticmethod\n",
        "    def write_to_file(filename, coordinates):\n",
        "        with open(filename, \"w\", encoding=\"utf-8\") as f:\n",
        "            for line in coordinates:\n",
        "                line_str = \" \".join(map(str, line))\n",
        "                f.write(line_str + \"\\n\")\n",
        "\n",
        "    @staticmethod\n",
        "    def read_from_file(filename):\n",
        "        with open(filename, \"r\", encoding=\"utf-8\") as f:\n",
        "            lines = f.read().strip().split('\\n')\n",
        "            return [list(map(float, line.split(' '))) for line in lines]"
      ],
      "metadata": {
        "id": "HkmXurkjcIOg",
        "outputId": "667cc11c-7984-46f3-8efc-7bdd09b6a2ec",
        "colab": {
          "base_uri": "https://localhost:8080/"
        }
      },
      "execution_count": 6,
      "outputs": [
        {
          "output_type": "stream",
          "name": "stdout",
          "text": [
            "Writing geo_transform/file_operations.py\n"
          ]
        }
      ]
    },
    {
      "cell_type": "markdown",
      "source": [
        "### **Содержимое модуля \\_\\_main__.py:**"
      ],
      "metadata": {
        "id": "qUQb0g_RcaUd"
      }
    },
    {
      "cell_type": "code",
      "source": [
        "%%writefile geo_transform/__main__.py\n",
        "from .transformations import CartesianCoordinates, SphericalCoordinates\n",
        "from .utils import AngleConverter\n",
        "from .file_operations import CoordinateFileManager\n",
        "\n",
        "__all__ = ['show']\n",
        "\n",
        "def show():\n",
        "    cart = CartesianCoordinates()\n",
        "    spherical = SphericalCoordinates()\n",
        "\n",
        "    while True:\n",
        "        print(f\"\\nТекущие координаты:\\n{cart}\\n{spherical}\")\n",
        "        print(\"\\nВыберите действие:\")\n",
        "        print(\"1. Преобразовать декартовы в сферические\")\n",
        "        print(\"2. Преобразовать сферические в декартовы\")\n",
        "        print(\"3. Записать координаты в файл\")\n",
        "        print(\"4. Считать координаты из файла\")\n",
        "        print(\"5. Выйти\")\n",
        "\n",
        "        choice = input(\"Введите номер действия: \")\n",
        "\n",
        "        if choice == '1':\n",
        "            x = float(input(\"Введите x: \"))\n",
        "            y = float(input(\"Введите y: \"))\n",
        "            z = float(input(\"Введите z: \"))\n",
        "            cart = CartesianCoordinates(x, y, z)\n",
        "            sph = cart.to_spherical()\n",
        "            sub = input(\"Преобразовать в градусы? (y/n): \").lower()\n",
        "            if sub in ['y', 'yes', 'да']:\n",
        "                sph.theta = AngleConverter.rad_to_deg(sph.theta)\n",
        "                sph.phi = AngleConverter.rad_to_deg(sph.phi)\n",
        "            print(f\"Сферические координаты: {sph}\")\n",
        "            spherical = sph\n",
        "\n",
        "        elif choice == '2':\n",
        "            r = float(input(\"Введите r: \"))\n",
        "            theta = float(input(\"Введите theta: \"))\n",
        "            phi = float(input(\"Введите phi: \"))\n",
        "            sub = input(\"theta и phi в радианах? (y/n): \").lower()\n",
        "            if sub in ['n', 'no', 'нет']:\n",
        "                theta = AngleConverter.deg_to_rad(theta)\n",
        "                phi = AngleConverter.deg_to_rad(phi)\n",
        "            spherical = SphericalCoordinates(r, theta, phi)\n",
        "            cart = spherical.to_cartesian()\n",
        "            print(f\"Декартовы координаты: {cart}\")\n",
        "\n",
        "        elif choice == '3':\n",
        "            filename = input(\"Введите имя файла: \")\n",
        "            mode = input(\"Какие координаты записать (c/s)? (c - Cartesian, s - Spherical): \").lower()\n",
        "            if mode == 'c':\n",
        "                data = [[cart.x, cart.y, cart.z]]\n",
        "            else:\n",
        "                data = [[spherical.r, spherical.theta, spherical.phi]]\n",
        "            CoordinateFileManager.write_to_file(filename, data)\n",
        "            print(f\"Данные записаны в {filename}\")\n",
        "\n",
        "        elif choice == '4':\n",
        "            filename = input(\"Введите имя файла: \")\n",
        "            data = CoordinateFileManager.read_from_file(filename)\n",
        "            print(f\"Считанные данные: {data}\")\n",
        "\n",
        "        elif choice == '5':\n",
        "            break\n",
        "\n",
        "        else:\n",
        "            print(\"Неверный выбор, попробуйте снова.\")"
      ],
      "metadata": {
        "id": "qzNV09hfcaUe",
        "outputId": "6922091f-9890-4566-ab63-aa7e92327049",
        "colab": {
          "base_uri": "https://localhost:8080/"
        }
      },
      "execution_count": 7,
      "outputs": [
        {
          "output_type": "stream",
          "name": "stdout",
          "text": [
            "Writing geo_transform/__main__.py\n"
          ]
        }
      ]
    },
    {
      "cell_type": "markdown",
      "source": [
        "### **Содержимое модуля main.py (с импортом пакета и тестированием функций из него):**"
      ],
      "metadata": {
        "id": "vGqPXMcdcpxE"
      }
    },
    {
      "cell_type": "code",
      "source": [
        "from geo_transform.__main__ import show\n",
        "\n",
        "show()"
      ],
      "metadata": {
        "id": "4b1mRDL6cpxE",
        "outputId": "938fb7bc-b44a-48e1-feba-4a3e3e321a6f",
        "colab": {
          "base_uri": "https://localhost:8080/"
        }
      },
      "execution_count": 9,
      "outputs": [
        {
          "name": "stdout",
          "output_type": "stream",
          "text": [
            "\n",
            "Текущие координаты:\n",
            "CartesianCoordinates(x=0, y=0, z=0)\n",
            "SphericalCoordinates(r=0, theta=0, phi=0)\n",
            "\n",
            "Выберите действие:\n",
            "1. Преобразовать декартовы в сферические\n",
            "2. Преобразовать сферические в декартовы\n",
            "3. Записать координаты в файл\n",
            "4. Считать координаты из файла\n",
            "5. Выйти\n",
            "Введите номер действия: 1\n",
            "Введите x: 1\n",
            "Введите y: 2\n",
            "Введите z: 3\n",
            "Преобразовать в градусы? (y/n): y\n",
            "Сферические координаты: SphericalCoordinates(r=3.7416573867739413, theta=63.43494882292201, phi=36.699225200489884)\n",
            "\n",
            "Текущие координаты:\n",
            "CartesianCoordinates(x=1.0, y=2.0, z=3.0)\n",
            "SphericalCoordinates(r=3.7416573867739413, theta=63.43494882292201, phi=36.699225200489884)\n",
            "\n",
            "Выберите действие:\n",
            "1. Преобразовать декартовы в сферические\n",
            "2. Преобразовать сферические в декартовы\n",
            "3. Записать координаты в файл\n",
            "4. Считать координаты из файла\n",
            "5. Выйти\n",
            "Введите номер действия: 3\n",
            "Введите имя файла: 5\n",
            "Какие координаты записать (c/s)? (c - Cartesian, s - Spherical): c\n",
            "Данные записаны в 5\n",
            "\n",
            "Текущие координаты:\n",
            "CartesianCoordinates(x=1.0, y=2.0, z=3.0)\n",
            "SphericalCoordinates(r=3.7416573867739413, theta=63.43494882292201, phi=36.699225200489884)\n",
            "\n",
            "Выберите действие:\n",
            "1. Преобразовать декартовы в сферические\n",
            "2. Преобразовать сферические в декартовы\n",
            "3. Записать координаты в файл\n",
            "4. Считать координаты из файла\n",
            "5. Выйти\n",
            "Введите номер действия: 5\n"
          ]
        }
      ]
    },
    {
      "cell_type": "code",
      "source": [],
      "metadata": {
        "id": "ZbBg6ayzlQI3"
      },
      "execution_count": null,
      "outputs": []
    }
  ]
}