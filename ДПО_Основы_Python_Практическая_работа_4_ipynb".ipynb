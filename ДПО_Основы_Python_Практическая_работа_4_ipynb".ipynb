{
  "nbformat": 4,
  "nbformat_minor": 0,
  "metadata": {
    "colab": {
      "provenance": [],
      "include_colab_link": true
    },
    "kernelspec": {
      "name": "python3",
      "display_name": "Python 3"
    },
    "language_info": {
      "name": "python"
    }
  },
  "cells": [
    {
      "cell_type": "markdown",
      "metadata": {
        "id": "view-in-github",
        "colab_type": "text"
      },
      "source": [
        "<a href=\"https://colab.research.google.com/github/caashka/programming_big_data/blob/main/%D0%94%D0%9F%D0%9E_%D0%9E%D1%81%D0%BD%D0%BE%D0%B2%D1%8B_Python_%D0%9F%D1%80%D0%B0%D0%BA%D1%82%D0%B8%D1%87%D0%B5%D1%81%D0%BA%D0%B0%D1%8F_%D1%80%D0%B0%D0%B1%D0%BE%D1%82%D0%B0_4_ipynb%22.ipynb\" target=\"_parent\"><img src=\"https://colab.research.google.com/assets/colab-badge.svg\" alt=\"Open In Colab\"/></a>"
      ]
    },
    {
      "cell_type": "markdown",
      "source": [
        "# **Практическая работа №4. Введение в Python. ООП рефакторинг**\n",
        "\n",
        "---\n",
        "\n",
        "\n"
      ],
      "metadata": {
        "id": "QliphIp1pbse"
      }
    },
    {
      "cell_type": "markdown",
      "source": [
        "**Обучающийся:** *[Введите ваше ФИО]*  "
      ],
      "metadata": {
        "id": "tTK8mNGDqA8Z"
      }
    },
    {
      "cell_type": "markdown",
      "source": [
        "\n",
        "\n",
        "---"
      ],
      "metadata": {
        "id": "wTJjWD61p_dZ"
      }
    },
    {
      "cell_type": "markdown",
      "source": [
        "## **Цель работы:**\n"
      ],
      "metadata": {
        "id": "hus_oUIb6-uw"
      }
    },
    {
      "cell_type": "markdown",
      "source": [
        "\n",
        "Провести рефакторинг ранее созданного Python-пакета в предыдущей практической работе, преобразовав его функциональность в соответствии с принципами объектно-ориентированного программирования. Обновленный пакет должен включать классы и методы для преобразования координат между декартовой и сферической системами координат, а также для работы с файлами."
      ],
      "metadata": {
        "id": "Jr6dLMMD69Z3"
      }
    },
    {
      "cell_type": "markdown",
      "source": [
        "\n",
        "\n",
        "## **Задачи:**\n"
      ],
      "metadata": {
        "id": "DZ02tlQN6_tI"
      }
    },
    {
      "cell_type": "markdown",
      "source": [
        "\n",
        "1. Анализ существующего пакета и определение необходимых изменений для перехода на ООП-парадигму.\n",
        "\n",
        "2. Создание новой структуры пакета с использованием классов и модулей, соответствующих принципам ООП.\n",
        "\n",
        "3. Реализация классов и методов для преобразования координат между декартовой и сферической системами координат.\n",
        "\n",
        "4. Реализация классов и методов для работы с файлами, обеспечивая удобный интерфейс для чтения и записи данных.\n",
        "\n",
        "5. Создание файла `__main__.py` с консольным интерфейсом для взаимодействия с функциональностью пакета.\n",
        "\n",
        "6. Тестирование и проверка работоспособности обновленного пакета на примерах, подтверждение корректности реализации."
      ],
      "metadata": {
        "id": "DCh4tfl06v45"
      }
    },
    {
      "cell_type": "markdown",
      "source": [
        "\n",
        "\n",
        "## **Демонстрация результата:**\n",
        "\n"
      ],
      "metadata": {
        "id": "iIyfPBIGbPdQ"
      }
    },
    {
      "cell_type": "markdown",
      "source": [
        "Вставьте код каждого из ваших модулей в соответствующие ячейки ниже.\n",
        "\n",
        "**Строку, начинающуюся на %%writefile... стирать запрещено**"
      ],
      "metadata": {
        "id": "1ARiSwg3bKML"
      }
    },
    {
      "cell_type": "markdown",
      "source": [
        "### **Содержимое модуля \\_\\_init__.py:**"
      ],
      "metadata": {
        "id": "kcPKYl5abzNp"
      }
    },
    {
      "cell_type": "code",
      "source": [
        "!mkdir geo_transform"
      ],
      "metadata": {
        "id": "T5t41w-tbD5I",
        "colab": {
          "base_uri": "https://localhost:8080/"
        },
        "outputId": "3593e6e6-9230-4a8c-d05c-1d690fbae56c"
      },
      "execution_count": 2,
      "outputs": [
        {
          "output_type": "stream",
          "name": "stdout",
          "text": [
            "mkdir: cannot create directory ‘geo_transform’: File exists\n"
          ]
        }
      ]
    },
    {
      "cell_type": "code",
      "source": [
        "%%writefile geo_transform/__init__.py\n",
        "from .transformations import CartesianCoordinates, SphericalCoordinates\n",
        "from .utils import AngleConverter\n",
        "from .file_operations import CoordinateFileManager\n",
        "from .__main__ import show\n",
        "\n",
        "__all__ = [\n",
        "    \"CartesianCoordinates\",\n",
        "    \"SphericalCoordinates\",\n",
        "    \"AngleConverter\",\n",
        "    \"CoordinateFileManager\",\n",
        "    \"show\"\n",
        "]"
      ],
      "metadata": {
        "id": "p_UraYekagmv",
        "colab": {
          "base_uri": "https://localhost:8080/"
        },
        "outputId": "a3961556-7fa6-4982-aab8-cd810f8a9f08"
      },
      "execution_count": 3,
      "outputs": [
        {
          "output_type": "stream",
          "name": "stdout",
          "text": [
            "Writing geo_transform/__init__.py\n"
          ]
        }
      ]
    },
    {
      "cell_type": "markdown",
      "source": [
        "### **Содержимое модуля transformations.py:**"
      ],
      "metadata": {
        "id": "GfgJWdI7cHoW"
      }
    },
    {
      "cell_type": "code",
      "source": [
        "%%writefile geo_transform/transformations.py\n",
        "from math import sqrt, atan2, sin, cos\n",
        "\n",
        "class CartesianCoordinates:\n",
        "    def __init__(self, x=0, y=0, z=0):\n",
        "        self.x = x\n",
        "        self.y = y\n",
        "        self.z = z\n",
        "\n",
        "    def to_spherical(self):\n",
        "        r = sqrt(self.x**2 + self.y**2 + self.z**2)\n",
        "        theta = 2 * atan2(self.y, self.x + sqrt(self.x**2 + self.y**2))\n",
        "        phi = atan2(sqrt(self.x**2 + self.y**2), self.z)\n",
        "        return SphericalCoordinates(r, theta, phi)\n",
        "\n",
        "    def __repr__(self):\n",
        "        return f\"CartesianCoordinates(x={self.x}, y={self.y}, z={self.z})\"\n",
        "\n",
        "\n",
        "class SphericalCoordinates:\n",
        "    def __init__(self, r=0, theta=0, phi=0):\n",
        "        self.r = r\n",
        "        self.theta = theta\n",
        "        self.phi = phi\n",
        "\n",
        "    def to_cartesian(self):\n",
        "        x = self.r * sin(self.phi) * cos(self.theta)\n",
        "        y = self.r * sin(self.phi) * sin(self.theta)\n",
        "        z = self.r * cos(self.phi)\n",
        "        return CartesianCoordinates(x, y, z)\n",
        "\n",
        "    def __repr__(self):\n",
        "        return f\"SphericalCoordinates(r={self.r}, theta={self.theta}, phi={self.phi})\""
      ],
      "metadata": {
        "id": "PEwM6HmucHoX",
        "colab": {
          "base_uri": "https://localhost:8080/"
        },
        "outputId": "1ae2b944-99bd-4161-eedb-256f6066c07c"
      },
      "execution_count": 4,
      "outputs": [
        {
          "output_type": "stream",
          "name": "stdout",
          "text": [
            "Writing geo_transform/transformations.py\n"
          ]
        }
      ]
    },
    {
      "cell_type": "markdown",
      "source": [
        "### **Содержимое модуля utils.py:**"
      ],
      "metadata": {
        "id": "tw_9FXFkcIBq"
      }
    },
    {
      "cell_type": "code",
      "source": [
        "%%writefile geo_transform/utils.py\n",
        "from math import pi\n",
        "\n",
        "class AngleConverter:\n",
        "    @staticmethod\n",
        "    def deg_to_rad(deg):\n",
        "        return deg * pi / 180\n",
        "\n",
        "    @staticmethod\n",
        "    def rad_to_deg(rad):\n",
        "        return rad * 180 / pi"
      ],
      "metadata": {
        "id": "y96uQcmTcIBr",
        "colab": {
          "base_uri": "https://localhost:8080/"
        },
        "outputId": "11107130-b593-4516-c1c0-2748b2753bae"
      },
      "execution_count": 5,
      "outputs": [
        {
          "output_type": "stream",
          "name": "stdout",
          "text": [
            "Writing geo_transform/utils.py\n"
          ]
        }
      ]
    },
    {
      "cell_type": "markdown",
      "source": [
        "### **Содержимое модуля file_operations.py:**"
      ],
      "metadata": {
        "id": "kmYf0AOwcIOg"
      }
    },
    {
      "cell_type": "code",
      "source": [
        "%%writefile geo_transform/file_operations.py\n",
        "class CoordinateFileManager:\n",
        "    @staticmethod\n",
        "    def write_to_file(filename, coordinates):\n",
        "        with open(filename, \"w\", encoding=\"utf-8\") as f:\n",
        "            for line in coordinates:\n",
        "                line_str = \" \".join(map(str, line))\n",
        "                f.write(line_str + \"\\n\")\n",
        "\n",
        "    @staticmethod\n",
        "    def read_from_file(filename):\n",
        "        with open(filename, \"r\", encoding=\"utf-8\") as f:\n",
        "            lines = f.read().strip().split('\\n')\n",
        "            return [list(map(float, line.split(' '))) for line in lines]"
      ],
      "metadata": {
        "id": "HkmXurkjcIOg",
        "colab": {
          "base_uri": "https://localhost:8080/"
        },
        "outputId": "667cc11c-7984-46f3-8efc-7bdd09b6a2ec"
      },
      "execution_count": 6,
      "outputs": [
        {
          "output_type": "stream",
          "name": "stdout",
          "text": [
            "Writing geo_transform/file_operations.py\n"
          ]
        }
      ]
    },
    {
      "cell_type": "markdown",
      "source": [
        "### **Содержимое модуля \\_\\_main__.py:**"
      ],
      "metadata": {
        "id": "qUQb0g_RcaUd"
      }
    },
    {
      "cell_type": "code",
      "source": [
        "%%writefile geo_transform/__main__.py\n",
        "try:\n",
        "    from .transformations import CartesianCoordinates, SphericalCoordinates\n",
        "    from .utils import AngleConverter\n",
        "    from .file_operations import CoordinateFileManager\n",
        "except:\n",
        "    from transformations import CartesianCoordinates, SphericalCoordinates\n",
        "    from utils import AngleConverter\n",
        "    from file_operations import CoordinateFileManager\n",
        "\n",
        "__all__ = ['GeoTransformApp']\n",
        "\n",
        "\n",
        "class GeoTransformApp:\n",
        "    def __init__(self):\n",
        "        self.cartesian = CartesianCoordinates()\n",
        "        self.spherical = SphericalCoordinates()\n",
        "        self.file_manager = CoordinateFileManager()\n",
        "\n",
        "        self.menu_options = {\n",
        "            1: (\"Преобразовать декартовы в сферические\", self._cartesian_to_spherical),\n",
        "            2: (\"Преобразовать сферические в декартовы\", self._spherical_to_cartesian),\n",
        "            3: (\"Записать координаты в файл\", self._write_to_file),\n",
        "            4: (\"Считать координаты из файла\", self._read_from_file),\n",
        "            5: (\"Выход\", None)\n",
        "        }\n",
        "\n",
        "    def _get_float(self, prompt: str) -> float:\n",
        "        while True:\n",
        "            try:\n",
        "                return float(input(prompt))\n",
        "            except ValueError:\n",
        "                print(\"Ошибка: введите корректное число\")\n",
        "\n",
        "    def _cartesian_to_spherical(self):\n",
        "        x = self._get_float(\"Введите x: \")\n",
        "        y = self._get_float(\"Введите y: \")\n",
        "        z = self._get_float(\"Введите z: \")\n",
        "        self.cartesian = CartesianCoordinates(x, y, z)\n",
        "        sph = self.cartesian.to_spherical()\n",
        "        choice = input(\"Преобразовать углы в градусы? (y/n): \").lower()\n",
        "        if choice in [\"y\", \"yes\", \"да\"]:\n",
        "            sph.theta = AngleConverter.rad_to_deg(sph.theta)\n",
        "            sph.phi = AngleConverter.rad_to_deg(sph.phi)\n",
        "        self.spherical = sph\n",
        "        print(f\"Сферические координаты: {self.spherical}\")\n",
        "\n",
        "    def _spherical_to_cartesian(self):\n",
        "        r = self._get_float(\"Введите r: \")\n",
        "        theta = self._get_float(\"Введите theta: \")\n",
        "        phi = self._get_float(\"Введите phi: \")\n",
        "        choice = input(\"Углы заданы в радианах? (y/n): \").lower()\n",
        "        if choice in [\"n\", \"no\", \"нет\"]:\n",
        "            theta = AngleConverter.deg_to_rad(theta)\n",
        "            phi = AngleConverter.deg_to_rad(phi)\n",
        "        self.spherical = SphericalCoordinates(r, theta, phi)\n",
        "        cart = self.spherical.to_cartesian()\n",
        "        self.cartesian = cart\n",
        "        print(f\"Декартовы координаты: {self.cartesian}\")\n",
        "\n",
        "    def _write_to_file(self):\n",
        "        filename = input(\"Введите имя файла: \")\n",
        "        choice = input(\"Сохранить (c) декартовы или (s) сферические координаты? \").lower()\n",
        "        if choice == \"c\":\n",
        "            data = [[self.cartesian.x, self.cartesian.y, self.cartesian.z]]\n",
        "        else:\n",
        "            data = [[self.spherical.r, self.spherical.theta, self.spherical.phi]]\n",
        "        self.file_manager.write_to_file(filename, data)\n",
        "        print(f\"Данные успешно записаны в {filename}\")\n",
        "\n",
        "    def _read_from_file(self):\n",
        "        filename = input(\"Введите имя файла: \")\n",
        "        try:\n",
        "            data = self.file_manager.read_from_file(filename)\n",
        "            print(f\"Считанные данные: {data}\")\n",
        "        except FileNotFoundError:\n",
        "            print(\"Ошибка: файл не найден\")\n",
        "        except Exception as e:\n",
        "            print(f\"Ошибка чтения файла: {e}\")\n",
        "\n",
        "    def show(self):\n",
        "        while True:\n",
        "            print(\"\\nТекущие координаты:\")\n",
        "            print(f\"  Декартовы: {self.cartesian}\")\n",
        "            print(f\"  Сферические: {self.spherical}\")\n",
        "            print(\"\\nВыберите действие:\")\n",
        "            for key, (desc, _) in self.menu_options.items():\n",
        "                print(f\"{key}. {desc}\")\n",
        "\n",
        "            try:\n",
        "                choice = int(input(\"Введите номер (1-5): \"))\n",
        "                if choice == 5:\n",
        "                    print(\"Выход из программы.\")\n",
        "                    break\n",
        "                elif choice in self.menu_options:\n",
        "                    self.menu_options[choice][1]()\n",
        "                else:\n",
        "                    print(\"Неверный выбор. Введите число от 1 до 5.\")\n",
        "            except ValueError:\n",
        "                print(\"Ошибка: введите число.\")\n",
        "            except Exception as e:\n",
        "                print(f\"Произошла ошибка: {e}\")\n",
        "\n",
        "\n",
        "def show():\n",
        "    app = GeoTransformApp()\n",
        "    app.show()\n",
        "\n",
        "\n",
        "if __name__ == \"__main__\":\n",
        "    show()\n"
      ],
      "metadata": {
        "id": "qzNV09hfcaUe",
        "colab": {
          "base_uri": "https://localhost:8080/"
        },
        "outputId": "f4e26ea2-ca96-4b8f-c1c2-cc446c393032"
      },
      "execution_count": 12,
      "outputs": [
        {
          "output_type": "stream",
          "name": "stdout",
          "text": [
            "Overwriting geo_transform/__main__.py\n"
          ]
        }
      ]
    },
    {
      "cell_type": "markdown",
      "source": [
        "### **Содержимое модуля main.py (с импортом пакета и тестированием функций из него):**"
      ],
      "metadata": {
        "id": "vGqPXMcdcpxE"
      }
    },
    {
      "cell_type": "code",
      "source": [
        "from geo_transform.__main__ import show\n",
        "\n",
        "show()"
      ],
      "metadata": {
        "id": "4b1mRDL6cpxE",
        "colab": {
          "base_uri": "https://localhost:8080/"
        },
        "outputId": "5abafa6d-fc70-4bd3-c3ff-3b7f1a198c80"
      },
      "execution_count": 11,
      "outputs": [
        {
          "name": "stdout",
          "output_type": "stream",
          "text": [
            "\n",
            "Текущие координаты:\n",
            "CartesianCoordinates(x=0, y=0, z=0)\n",
            "SphericalCoordinates(r=0, theta=0, phi=0)\n",
            "\n",
            "Выберите действие:\n",
            "1. Преобразовать декартовы в сферические\n",
            "2. Преобразовать сферические в декартовы\n",
            "3. Записать координаты в файл\n",
            "4. Считать координаты из файла\n",
            "5. Выйти\n",
            "Введите номер действия: 1\n",
            "Введите x: 1\n",
            "Введите y: 2\n",
            "Введите z: 3\n",
            "Преобразовать в градусы? (y/n): lf\n",
            "Сферические координаты: SphericalCoordinates(r=3.7416573867739413, theta=1.1071487177940904, phi=0.6405223126794246)\n",
            "\n",
            "Текущие координаты:\n",
            "CartesianCoordinates(x=1.0, y=2.0, z=3.0)\n",
            "SphericalCoordinates(r=3.7416573867739413, theta=1.1071487177940904, phi=0.6405223126794246)\n",
            "\n",
            "Выберите действие:\n",
            "1. Преобразовать декартовы в сферические\n",
            "2. Преобразовать сферические в декартовы\n",
            "3. Записать координаты в файл\n",
            "4. Считать координаты из файла\n",
            "5. Выйти\n",
            "Введите номер действия: 3\n",
            "Введите имя файла: test.txt\n",
            "Какие координаты записать (c/s)? (c - Cartesian, s - Spherical): s\n",
            "Данные записаны в test.txt\n",
            "\n",
            "Текущие координаты:\n",
            "CartesianCoordinates(x=1.0, y=2.0, z=3.0)\n",
            "SphericalCoordinates(r=3.7416573867739413, theta=1.1071487177940904, phi=0.6405223126794246)\n",
            "\n",
            "Выберите действие:\n",
            "1. Преобразовать декартовы в сферические\n",
            "2. Преобразовать сферические в декартовы\n",
            "3. Записать координаты в файл\n",
            "4. Считать координаты из файла\n",
            "5. Выйти\n",
            "Введите номер действия: 5\n"
          ]
        }
      ]
    },
    {
      "cell_type": "code",
      "source": [],
      "metadata": {
        "id": "ZbBg6ayzlQI3"
      },
      "execution_count": null,
      "outputs": []
    }
  ]
}