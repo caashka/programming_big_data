{
  "nbformat": 4,
  "nbformat_minor": 0,
  "metadata": {
    "colab": {
      "provenance": [],
      "include_colab_link": true
    },
    "kernelspec": {
      "name": "python3",
      "display_name": "Python 3"
    },
    "language_info": {
      "name": "python"
    }
  },
  "cells": [
    {
      "cell_type": "markdown",
      "metadata": {
        "id": "view-in-github",
        "colab_type": "text"
      },
      "source": [
        "<a href=\"https://colab.research.google.com/github/caashka/programming_big_data/blob/main/%D0%9F%D1%80%D0%B0%D0%BA%D1%82%D0%B8%D1%87%D0%B5%D1%81%D0%BA%D0%B0%D1%8F_%D1%80%D0%B0%D0%B1%D0%BE%D1%82%D0%B0_%E2%84%963_%D0%92%D0%B2%D0%B5%D0%B4%D0%B5%D0%BD%D0%B8%D0%B5_%D0%B2_%D0%9E%D0%9E%D0%9F.ipynb\" target=\"_parent\"><img src=\"https://colab.research.google.com/assets/colab-badge.svg\" alt=\"Open In Colab\"/></a>"
      ]
    },
    {
      "cell_type": "markdown",
      "source": [
        "# **Практическая работа №3. Введение в ООП**\n",
        "\n",
        "\n"
      ],
      "metadata": {
        "id": "s-EuQCpnWXCn"
      }
    },
    {
      "cell_type": "markdown",
      "source": [
        "## **Задание №1. Создайте класс Sphere для представления сферы в трехмерном пространстве**\n"
      ],
      "metadata": {
        "id": "TQ5SpdjdbD4D"
      }
    },
    {
      "cell_type": "markdown",
      "source": [
        "Обеспечьте следующие методы класса:\n",
        "\n",
        "1. Конструктор, принимающий 4 действительных числа: радиус, и 3 координаты центра шара. Если конструктор вызывается без аргументов, создать объект сферы с единичным радиусом и центром в начале координат. Если конструктор вызывается с аргументом, создать объект сферы с соответствующим радиусом и центром в начале координат.\n",
        "\n",
        "2. Метод get_volume (), который возвращает действительное число — объем шара, ограниченной текущей сферой.\n",
        "\n",
        "3. Метод get_square (), который возвращает действительное число — площадь внешней поверхности сферы.\n",
        "\n",
        "4. Метод get_radius (), который возвращает действительное число — радиус сферы.\n",
        "\n",
        "5. Метод get_center (), который возвращает тьюпл с 3 действительными числами — координатами центра сферы в том же порядке, в каком они задаются в конструкторе.\n",
        "\n",
        "6. Метод set_radius (r), который принимает 1 аргумент — действительное число, и меняет радиус текущей сферы, ничего не возвращая.\n",
        "\n",
        "7. Метод set_center (x, y, z), который принимает 3 аргумента — действительных числа, и меняет координаты центра сферы, ничего не возвращая. Координаты задаются в том же порядке, что и в конструкторе.\n",
        "\n",
        "8. Метод is_point_inside (x, y, z), который принимает 3 аргумента — действительных числа — координаты некоторой точки в пространстве (в том же порядке, что и в конструкторе), и возвращает логическое значение True или False в зависимости от того, находится эта точка внутри сферы."
      ],
      "metadata": {
        "id": "Q5Ow51wfASZH"
      }
    },
    {
      "cell_type": "code",
      "source": [
        "# Тесты\n",
        "\n",
        "s0 = Sphere(0.5) # test sphere creation with radius and default center\n",
        "print(s0.get_center()) # (0.0, 0.0, 0.0)\n",
        "print(s0.get_volume()) # 0.523598775598\n",
        "print(s0.is_point_inside(0 , -1.5, 0)) # False\n",
        "s0.set_radius(1.6)\n",
        "print(s0.is_point_inside(0, -1.5, 0)) # True\n",
        "print(s0.get_radius()) # 1.6"
      ],
      "metadata": {
        "id": "xYx3bR2Lbv42",
        "colab": {
          "base_uri": "https://localhost:8080/"
        },
        "outputId": "2f880964-c4aa-436e-8371-08e9b7371c00"
      },
      "execution_count": null,
      "outputs": [
        {
          "output_type": "stream",
          "name": "stdout",
          "text": [
            "(0, 0, 0)\n",
            "0.5233333333333333\n",
            "False\n",
            "True\n",
            "1.6\n"
          ]
        }
      ]
    },
    {
      "cell_type": "code",
      "source": [
        "class Sphere:\n",
        "  def __init__(self, r=1, x=0, y=0, z=0):\n",
        "    self.r = r\n",
        "    self.x = x\n",
        "    self.y = y\n",
        "    self.z = z\n",
        "\n",
        "  def get_volume(self):\n",
        "    return 4 / 3  * 3.14 * self.r ** 3\n",
        "\n",
        "  def get_square(self):\n",
        "    return 4  * 3.14 * self.r ** 2\n",
        "\n",
        "  def get_radius(self):\n",
        "    return self.r\n",
        "\n",
        "  def get_center(self):\n",
        "    return (self.x, self.y, self.z)\n",
        "\n",
        "  def set_center(self, x, y, z):\n",
        "    self.x = x\n",
        "    self.y = y\n",
        "    self.z = z\n",
        "\n",
        "  def set_radius(self, r):\n",
        "    self.r = r\n",
        "\n",
        "  def is_point_inside(self, x1, y1, z1):\n",
        "    return (self.x - x1) ** 2 + (self.y - y1) ** 2 + (self.z - z1) ** 2 < self.r ** 2"
      ],
      "metadata": {
        "id": "d-vd-AYRdBId"
      },
      "execution_count": null,
      "outputs": []
    },
    {
      "cell_type": "markdown",
      "source": [
        "## **Задание №2. Создайте класс SuperStr, который наследует стандартный класс str и содержит 2 новых метода:**"
      ],
      "metadata": {
        "id": "UuJ9K_zAcaY_"
      }
    },
    {
      "cell_type": "markdown",
      "source": [
        "1. Метод is_repeatance (s), который принимает 1 аргумент s и возвращает True или False в зависимости от того, может ли текущая строку быть получена целым количеством повторов строки s. Вернуть False, если s не является строкой. Считать, что пустая строка не содержит повторов.\n",
        "\n",
        "2. Метод is_palindrom (), который возвращает True или False в зависимости от того, является ли строка [палиндромом](https://ru.wikipedia.org/wiki/Палиндром). Регистрами символов пренебрегать. Пустую строку считать палиндромом."
      ],
      "metadata": {
        "id": "GX99X81VchPW"
      }
    },
    {
      "cell_type": "code",
      "source": [
        "class SuperStr(str):\n",
        "  def is_repeatance(self, s):\n",
        "    if not isinstance(s, str) or s == '':\n",
        "      return False\n",
        "\n",
        "    if len(self) % len(s) != 0:\n",
        "      return False\n",
        "\n",
        "    return self == s * (len(self) // len(s))\n",
        "\n",
        "  def is_palindrom(self):\n",
        "    if self == '':\n",
        "        return True\n",
        "    return self == self[::-1]"
      ],
      "metadata": {
        "id": "LtIAKDWFdEcr"
      },
      "execution_count": null,
      "outputs": []
    },
    {
      "cell_type": "code",
      "source": [
        "# Тесты\n",
        "\n",
        "s = SuperStr(\"123123123123\")\n",
        "print(s.is_repeatance(\"123\")) # True\n",
        "print(s.is_repeatance(\"123123\")) # True\n",
        "print(s.is_repeatance(\"123123123123\")) # True\n",
        "print(s.is_repeatance(\"12312\")) # False\n",
        "print(s.is_repeatance(123)) # False\n",
        "print(s.is_palindrom()) # False\n",
        "print(s) # 123123123123 (строка)\n",
        "print(int(s)) # 123123123123 (целое число)\n",
        "print(s + \"qwe\") # 123123123123qwe\n",
        "p = SuperStr(\"123_321\")\n",
        "print(p.is_palindrom()) # True"
      ],
      "metadata": {
        "id": "oRO3alwicoNp",
        "colab": {
          "base_uri": "https://localhost:8080/"
        },
        "outputId": "d7969635-9e4b-42bb-e080-a5f8935ebbf3"
      },
      "execution_count": null,
      "outputs": [
        {
          "output_type": "stream",
          "name": "stdout",
          "text": [
            "True\n",
            "True\n",
            "True\n",
            "False\n",
            "False\n",
            "False\n",
            "123123123123\n",
            "123123123123\n",
            "123123123123qwe\n",
            "True\n"
          ]
        }
      ]
    },
    {
      "cell_type": "markdown",
      "source": [
        "## **Задание №3. В коде ниже представлен класс преподавателей и класс студентов (вы можете взять этот код за основу или написать свой).**"
      ],
      "metadata": {
        "id": "m9EGwLY9jZbw"
      }
    },
    {
      "cell_type": "code",
      "source": [
        "class Student:\n",
        "    def __init__(self, name, surname, gender):\n",
        "        self.name = name\n",
        "        self.surname = surname\n",
        "        self.gender = gender\n",
        "        self.finished_courses = []\n",
        "        self.courses_in_progress = []\n",
        "        self.grades = {}\n",
        "\n",
        "    def add_courses(self, course_name):\n",
        "        self.finished_courses.append(course_name)\n",
        "\n",
        "\n",
        "class Mentor:\n",
        "    def __init__(self, name, surname):\n",
        "        self.name = name\n",
        "        self.surname = surname\n",
        "        self.courses_attached = []\n",
        "\n",
        "    def rate_hw(self, student, course, grade):\n",
        "        student.grades[course] = [grade]"
      ],
      "metadata": {
        "id": "PlqK9m7KrT6e"
      },
      "execution_count": null,
      "outputs": []
    },
    {
      "cell_type": "code",
      "source": [
        "best_student = Student('Ruoy', 'Eman', 'your_gender')\n",
        "cool_mentor = Mentor('Some', 'Buddy')\n",
        "cool_mentor.rate_hw(best_student, 'Python', 10)\n",
        "\n",
        "print(\"Имя студента: \", best_student.name)\n",
        "print(\"Имя преподавателя: \", cool_mentor.name)\n",
        "print(\"Оценки студента по курсам: \", best_student.grades)"
      ],
      "metadata": {
        "colab": {
          "base_uri": "https://localhost:8080/"
        },
        "id": "oNc1-dVaw3ee",
        "outputId": "7621e159-5ac4-48a7-8318-886013ba7692"
      },
      "execution_count": null,
      "outputs": [
        {
          "output_type": "stream",
          "name": "stdout",
          "text": [
            "Имя студента:  Ruoy\n",
            "Имя преподавателя:  Some\n",
            "Оценки студента по курсам:  {'Python': [10]}\n"
          ]
        }
      ]
    },
    {
      "cell_type": "markdown",
      "source": [
        "### **3.1. Наследование**"
      ],
      "metadata": {
        "id": "08FkYxULrxE-"
      }
    },
    {
      "cell_type": "markdown",
      "source": [
        "* Класс Mentor должен стать родительским классом для преподавателей. От него нужно реализовать наследование классов Lecturer (лекторы) и Reviewer (эксперты, проверяющие домашние задания).\n",
        "\n",
        "> Имя, фамилю и список закрепленных курсов логично реализовать на уровне родительского класса."
      ],
      "metadata": {
        "id": "YNjsCv5ItOii"
      }
    },
    {
      "cell_type": "code",
      "source": [
        "class Student():\n",
        "    def __init__(self, name, surname, gender):\n",
        "        self.name = name\n",
        "        self.surname = surname\n",
        "        self.gender = gender\n",
        "        self.finished_courses = []\n",
        "        self.courses_in_progress = []\n",
        "        self.grades = {}\n",
        "\n",
        "    def start_course(self, course_name):\n",
        "        self.courses_in_progress.append(course_name)\n",
        "\n",
        "    def finish_course(self, course_name):\n",
        "      if(course_name not in self.courses_in_progress):\n",
        "        raise KeyError(f'Course named {course_name} is not in curses in progress')\n",
        "\n",
        "      self.courses_in_progress = [course for course in self.courses_in_progress if course != course_name]\n",
        "      self.finished_courses.append(course_name)\n",
        "\n",
        "      print(f'courses in progress {self.courses_in_progress}\\nfinished courses {self.finished_courses}')\n",
        "\n",
        "\n",
        "\n",
        "class Mentor():\n",
        "  def __init__(self, name, surname):\n",
        "    self.name = name\n",
        "    self.surname = surname\n",
        "    self.courses_attached = []\n",
        "\n",
        "  def add_courses(self, courses):\n",
        "    self.courses_attached.extend(courses)\n",
        "\n",
        "\n",
        "class Lecturer(Mentor):\n",
        "  pass\n",
        "\n",
        "class Reviewer(Mentor):\n",
        "  pass"
      ],
      "metadata": {
        "id": "1quZPRZKtIoc"
      },
      "execution_count": null,
      "outputs": []
    },
    {
      "cell_type": "code",
      "source": [
        "m = Student('Alex', 'Pobs', 'male')\n",
        "m.start_course('math')\n",
        "m.start_course('russian')\n",
        "m.start_course('english')\n",
        "m.finish_course('math')\n"
      ],
      "metadata": {
        "colab": {
          "base_uri": "https://localhost:8080/"
        },
        "id": "isASCppQVpf1",
        "outputId": "59573d7c-e0bf-4e57-d0aa-470b04598ada"
      },
      "execution_count": null,
      "outputs": [
        {
          "output_type": "stream",
          "name": "stdout",
          "text": [
            "courses in progress ['russian', 'english']\n",
            "finished courses ['math']\n"
          ]
        }
      ]
    },
    {
      "cell_type": "markdown",
      "source": [
        "### **3.2. Атрибуты и взаимодействие классов**"
      ],
      "metadata": {
        "id": "oL8kB-uUtH5K"
      }
    },
    {
      "cell_type": "markdown",
      "source": [
        "* Реализуйте возможность проставления оценок студентам только Reviewer-ам (реализуйте такой метод).\n",
        "\n",
        "* Реализуйте метод выставления оценок лекторам у класса Student (оценки по 10-балльной шкале, хранятся в атрибуте-словаре у Lecturer, в котором ключи – названия курсов, а значения – списки оценок). Лектор при этом должен быть закреплен за тем курсом, на который записан студент (реализовать проверку)."
      ],
      "metadata": {
        "id": "ddcuJFCksWsY"
      }
    },
    {
      "cell_type": "code",
      "source": [
        "class Student():\n",
        "    def __init__(self, name, surname, gender):\n",
        "        self.name = name\n",
        "        self.surname = surname\n",
        "        self.gender = gender\n",
        "        self.finished_courses = []\n",
        "        self.courses_in_progress = []\n",
        "        self.grades = {}\n",
        "\n",
        "    def start_course(self, course_name):\n",
        "        self.courses_in_progress.append(course_name)\n",
        "\n",
        "    def finish_course(self, course_name):\n",
        "      if(course_name not in self.courses_in_progress):\n",
        "        raise KeyError(f'Course named {course_name} is not in curses in progress')\n",
        "\n",
        "      self.courses_in_progress = [course for course in self.courses_in_progress if course != course_name]\n",
        "      self.finished_courses.append(course_name)\n",
        "\n",
        "    def rate_lecturer_course(self, rating, lecturer, course_name):\n",
        "      if (rating < 0 or rating > 10):\n",
        "        raise ValueError('Rating must be value between 1 and 10')\n",
        "      if (course_name not in self.courses_in_progress and course_name not in self.finished_courses):\n",
        "        raise KeyError(f'Course named {course_name} is not in student courses')\n",
        "      if (course_name not in lecturer.courses_attached):\n",
        "        raise KeyError(f'Course named {course_name} is not attached to this lecturer')\n",
        "\n",
        "      if (course_name not in lecturer.courses_rating):\n",
        "        lecturer.courses_rating[course_name] = [rating]\n",
        "      else:\n",
        "        lecturer.courses_rating[course_name].append(rating)\n",
        "\n",
        "      print(lecturer.courses_rating)\n",
        "\n",
        "class Mentor():\n",
        "  def __init__(self, name, surname):\n",
        "    self.name = name\n",
        "    self.surname = surname\n",
        "    self.courses_attached = []\n",
        "\n",
        "  def add_courses(self, courses):\n",
        "    self.courses_attached.extend(courses)\n",
        "\n",
        "class Reviewer(Mentor):\n",
        "  def __init__(self, name, surname):\n",
        "      super().__init__(name, surname)\n",
        "\n",
        "  def rate_hw(self, student, course, grade):\n",
        "    student.grades[course] = [grade]\n",
        "\n",
        "class Lecturer(Mentor):\n",
        "  def __init__(self, name, surname):\n",
        "      super().__init__(name, surname)\n",
        "      self.courses_rating = {}\n"
      ],
      "metadata": {
        "id": "U30yyvuirv6H"
      },
      "execution_count": null,
      "outputs": []
    },
    {
      "cell_type": "code",
      "source": [
        "jhon_the_mentor = Lecturer('Jhon', 'Pale')\n",
        "student = Student('Alex', 'Pobs', 'male')\n",
        "student2 = Student('Silvia', 'Adams', 'female')\n",
        "jhon_the_mentor.add_courses(('Math', 'Python', 'English'))\n",
        "student.start_course('Math')\n",
        "student.rate_lecturer_course(5, jhon_the_mentor, 'Math')\n",
        "student2.start_course('Math')\n",
        "student2.rate_lecturer_course(9, jhon_the_mentor, 'Math')"
      ],
      "metadata": {
        "colab": {
          "base_uri": "https://localhost:8080/"
        },
        "id": "1e-coOtafgIe",
        "outputId": "f1a26c77-855a-49ea-cb35-32ba270f2c67"
      },
      "execution_count": null,
      "outputs": [
        {
          "output_type": "stream",
          "name": "stdout",
          "text": [
            "{'Math': [5]}\n",
            "{'Math': [5, 9]}\n"
          ]
        }
      ]
    },
    {
      "cell_type": "markdown",
      "source": [
        "### **3.3. Полиморфизм и магические методы**"
      ],
      "metadata": {
        "id": "i6PrwEBSu39u"
      }
    },
    {
      "cell_type": "markdown",
      "source": [
        "Перегрузите магический метод \\_\\_str__ у всех классов.\n",
        "У проверяющих он должен выводить информацию в следующем виде:\n",
        "\n",
        "\n",
        "\n",
        "```\n",
        "print(some_reviewer)\n",
        "Имя: Some\n",
        "Фамилия: Buddy\n",
        "```\n",
        "\n",
        "У лекторов:\n",
        "\n",
        "\n",
        "\n",
        "```\n",
        "print(some_lecturer)\n",
        "Имя: Some\n",
        "Фамилия: Buddy\n",
        "Средняя оценка за лекции: 9.9\n",
        "```\n",
        "\n",
        "А у студентов так:\n",
        "\n",
        "\n",
        "\n",
        "```\n",
        "print(some_student)\n",
        "Имя: Ruoy\n",
        "Фамилия: Eman\n",
        "Средняя оценка за домашние задания: 9.9\n",
        "Курсы в процессе изучения: Python, Git\n",
        "Завершенные курсы: Введение в программирование\n",
        "```\n",
        "\n",
        "\n",
        "\n"
      ],
      "metadata": {
        "id": "GvmtjlnmvF8b"
      }
    },
    {
      "cell_type": "code",
      "source": [
        "class Student():\n",
        "  def __init__(self, name, surname, gender):\n",
        "      self.name = name\n",
        "      self.surname = surname\n",
        "      self.gender = gender\n",
        "      self.finished_courses = []\n",
        "      self.courses_in_progress = []\n",
        "      self.grades = {}\n",
        "\n",
        "  def start_course(self, course_name):\n",
        "      self.courses_in_progress.append(course_name)\n",
        "\n",
        "  def finish_course(self, course_name):\n",
        "    if(course_name not in self.courses_in_progress):\n",
        "      raise KeyError(f'Course named {course_name} is not in curses in progress')\n",
        "\n",
        "    self.courses_in_progress = [course for course in self.courses_in_progress if course != course_name]\n",
        "    self.finished_courses.append(course_name)\n",
        "\n",
        "  def rate_lecturer_course(self, rating, lecturer, course_name):\n",
        "    if (rating < 0 or rating > 10):\n",
        "      raise ValueError('Rating must be value between 1 and 10')\n",
        "    if (course_name not in self.courses_in_progress and course_name not in self.finished_courses):\n",
        "      raise KeyError(f'Course named {course_name} is not in student courses')\n",
        "    if (course_name not in lecturer.courses_attached):\n",
        "      raise KeyError(f'Course named {course_name} is not attached to this lecturer')\n",
        "\n",
        "    if (course_name not in lecturer.courses_rating):\n",
        "      lecturer.courses_rating[course_name] = [rating]\n",
        "    else:\n",
        "      lecturer.courses_rating[course_name].append(rating)\n",
        "\n",
        "  def __str__(self):\n",
        "      avg_grade = sum(sum(grades) for grades in self.grades.values()) / sum(len(grades) for grades in self.grades.values()) if self.grades else 0\n",
        "      return (\n",
        "          f\"Имя: {self.name}\\n\"\n",
        "          f\"Фамилия: {self.surname}\\n\"\n",
        "          f\"Средняя оценка за домашние задания: {avg_grade:.1f}\\n\"\n",
        "          f\"Курсы в процессе изучения: {', '.join(self.courses_in_progress)}\\n\"\n",
        "          f\"Завершенные курсы: {', '.join(self.finished_courses)}\"\n",
        "      )\n",
        "\n",
        "class Mentor():\n",
        "  def __init__(self, name, surname):\n",
        "    self.name = name\n",
        "    self.surname = surname\n",
        "    self.courses_attached = []\n",
        "\n",
        "  def add_courses(self, courses):\n",
        "    self.courses_attached.extend(courses)\n",
        "\n",
        "class Reviewer(Mentor):\n",
        "  def __init__(self, name, surname):\n",
        "      super().__init__(name, surname)\n",
        "\n",
        "  def rate_hw(self, student, course, grade):\n",
        "    student.grades[course] = [grade]\n",
        "\n",
        "  def __str__(self):\n",
        "    return f\"Имя: {self.name}\\nФамилия: {self.surname}\"\n",
        "\n",
        "class Lecturer(Mentor):\n",
        "  def __init__(self, name, surname):\n",
        "      super().__init__(name, surname)\n",
        "      self.courses_rating = {}\n",
        "\n",
        "  def __str__(self):\n",
        "    avg_rating = sum(sum(ratings) for ratings in self.courses_rating.values()) / sum(len(ratings) for ratings in self.courses_rating.values()) if self.courses_rating else 0\n",
        "    return (\n",
        "        f\"Имя: {self.name}\\n\"\n",
        "        f\"Фамилия: {self.surname}\\n\"\n",
        "        f\"Средняя оценка за лекции: {avg_rating:.1f}\"\n",
        "    )\n"
      ],
      "metadata": {
        "id": "gCJAL_EmwU0b"
      },
      "execution_count": null,
      "outputs": []
    },
    {
      "cell_type": "code",
      "source": [
        "jhon_the_reviwer = Reviewer('Jhon', 'Pale')\n",
        "james_the_lecturer = Lecturer('Jamse', 'Armstrong')\n",
        "student = Student('Alex', 'Pobs', 'male')\n",
        "\n",
        "jhon_the_reviwer.rate_hw(student, 'Math', 5)\n",
        "jhon_the_reviwer.rate_hw(student, 'C++', 3)\n",
        "james_the_lecturer.add_courses(('Math', 'Python', 'English'))\n",
        "\n",
        "student.start_course('Math')\n",
        "student.start_course('C++')\n",
        "student.start_course('Russian')\n",
        "student.finish_course('Russian')\n",
        "student.rate_lecturer_course(5, james_the_lecturer, 'Math')\n",
        "student.rate_lecturer_course(8, james_the_lecturer, 'Math')\n",
        "\n",
        "print(jhon_the_reviwer)\n",
        "print()\n",
        "print(james_the_lecturer)\n",
        "print()\n",
        "print(student)"
      ],
      "metadata": {
        "colab": {
          "base_uri": "https://localhost:8080/"
        },
        "id": "KiQjkvEk-Eb4",
        "outputId": "1889f52a-46d2-4dbb-ef79-a336b049b2c4"
      },
      "execution_count": null,
      "outputs": [
        {
          "output_type": "stream",
          "name": "stdout",
          "text": [
            "Имя: Jhon\n",
            "Фамилия: Pale\n",
            "\n",
            "Имя: Jamse\n",
            "Фамилия: Armstrong\n",
            "Средняя оценка за лекции: 6.5\n",
            "\n",
            "Имя: Alex\n",
            "Фамилия: Pobs\n",
            "Средняя оценка за домашние задания: 4.0\n",
            "Курсы в процессе изучения: Math, C++\n",
            "Завершенные курсы: Russian\n"
          ]
        }
      ]
    },
    {
      "cell_type": "markdown",
      "source": [
        "**Реализуйте перегрузку других магических методов на Ваш выбор (не менее трёх), руководствуясь по смыслу контекстом представленных классов (студенты, преподаватели, оценки и т.д.)**"
      ],
      "metadata": {
        "id": "1DNE4TE3vfYI"
      }
    },
    {
      "cell_type": "code",
      "source": [
        "class Student():\n",
        "  def __init__(self, name, surname, gender):\n",
        "      self.name = name\n",
        "      self.surname = surname\n",
        "      self.gender = gender\n",
        "      self.finished_courses = []\n",
        "      self.courses_in_progress = []\n",
        "      self.grades = {}\n",
        "\n",
        "  def start_course(self, course_name):\n",
        "      self.courses_in_progress.append(course_name)\n",
        "\n",
        "  def finish_course(self, course_name):\n",
        "    if(course_name not in self.courses_in_progress):\n",
        "      raise KeyError(f'Course named {course_name} is not in curses in progress')\n",
        "\n",
        "    self.courses_in_progress = [course for course in self.courses_in_progress if course != course_name]\n",
        "    self.finished_courses.append(course_name)\n",
        "\n",
        "  def rate_lecturer_course(self, rating, lecturer, course_name):\n",
        "    if (rating < 0 or rating > 10):\n",
        "      raise ValueError('Rating must be value between 1 and 10')\n",
        "    if (course_name not in self.courses_in_progress and course_name not in self.finished_courses):\n",
        "      raise KeyError(f'Course named {course_name} is not in student courses')\n",
        "    if (course_name not in lecturer.courses_attached):\n",
        "      raise KeyError(f'Course named {course_name} is not attached to this lecturer')\n",
        "\n",
        "    if (course_name not in lecturer.courses_rating):\n",
        "      lecturer.courses_rating[course_name] = [rating]\n",
        "    else:\n",
        "      lecturer.courses_rating[course_name].append(rating)\n",
        "\n",
        "  def __str__(self):\n",
        "      avg_grade = sum(sum(grades) for grades in self.grades.values()) / sum(len(grades) for grades in self.grades.values()) if self.grades else 0\n",
        "      return (\n",
        "          f\"Имя: {self.name}\\n\"\n",
        "          f\"Фамилия: {self.surname}\\n\"\n",
        "          f\"Средняя оценка за домашние задания: {avg_grade:.1f}\\n\"\n",
        "          f\"Курсы в процессе изучения: {', '.join(self.courses_in_progress)}\\n\"\n",
        "          f\"Завершенные курсы: {', '.join(self.finished_courses)}\"\n",
        "      )\n",
        "\n",
        "  def __eq__(self, other):\n",
        "    if not isinstance(other, Student):\n",
        "        return False\n",
        "    return self.name == other.name and self.surname == other.surname\n",
        "\n",
        "  def __lt__(self, other):\n",
        "    if not isinstance(other, Student):\n",
        "        return NotImplemented\n",
        "    avg_self = sum(sum(grades) for grades in self.grades.values()) / sum(len(grades) for grades in self.grades.values()) if self.grades else 0\n",
        "    avg_other = sum(sum(grades) for grades in other.grades.values()) / sum(len(grades) for grades in other.grades.values()) if other.grades else 0\n",
        "    return avg_self < avg_other\n",
        "\n",
        "  def __gt__(self, other)\n",
        "    if not isinstance(other, Student):\n",
        "        return NotImplemented\n",
        "    avg_self = sum(sum(grades) for grades in self.grades.values()) / sum(len(grades) for grades in self.grades.values()) if self.grades else 0\n",
        "    avg_other = sum(sum(grades) for grades in other.grades.values()) / sum(len(grades) for grades in other.grades.values()) if other.grades else 0\n",
        "    return avg_self > avg_other\n",
        "\n",
        "class Mentor():\n",
        "  def __init__(self, name, surname):\n",
        "    self.name = name\n",
        "    self.surname = surname\n",
        "    self.courses_attached = []\n",
        "\n",
        "  def add_courses(self, courses):\n",
        "    self.courses_attached.extend(courses)\n",
        "\n",
        "  def __eq__(self, other):\n",
        "    if (self.__class__ != other.__class__):\n",
        "        return False\n",
        "    return self.name == other.name and self.surname == other.surname\n",
        "\n",
        "class Reviewer(Mentor):\n",
        "  def __init__(self, name, surname):\n",
        "      super().__init__(name, surname)\n",
        "\n",
        "  def rate_hw(self, student, course, grade):\n",
        "    student.grades[course] = [grade]\n",
        "\n",
        "  def __str__(self):\n",
        "    return f\"Имя: {self.name}\\nФамилия: {self.surname}\"\n",
        "\n",
        "class Lecturer(Mentor):\n",
        "  def __init__(self, name, surname):\n",
        "      super().__init__(name, surname)\n",
        "      self.courses_rating = {}\n",
        "\n",
        "  def __str__(self):\n",
        "    avg_rating = sum(sum(ratings) for ratings in self.courses_rating.values()) / sum(len(ratings) for ratings in self.courses_rating.values()) if self.courses_rating else 0\n",
        "    return (\n",
        "        f\"Имя: {self.name}\\n\"\n",
        "        f\"Фамилия: {self.surname}\\n\"\n",
        "        f\"Средняя оценка за лекции: {avg_rating:.1f}\"\n",
        "    )\n"
      ],
      "metadata": {
        "id": "WNCf9PPMu4Gv"
      },
      "execution_count": null,
      "outputs": []
    },
    {
      "cell_type": "markdown",
      "source": [
        "### **3.4. Тестирование**\n",
        "\n",
        "Создайте по 2 экземпляра каждого класса, вызовите все созданные методы, а также реализуйте две функции:\n",
        "\n",
        "* для подсчета средней оценки за домашние задания по всем студентам в рамках конкретного курса (в качестве аргументов принимаем список студентов и название курса);\n",
        "* для подсчета средней оценки за лекции всех лекторов в рамках курса (в качестве аргумента принимаем список лекторов и название курса)."
      ],
      "metadata": {
        "id": "X8xvLNT6u4Nn"
      }
    },
    {
      "cell_type": "code",
      "source": [
        "def average_grade_for_course(students, course_name):\n",
        "  total_grades = []\n",
        "  for student in students:\n",
        "      if course_name in student.grades:\n",
        "          total_grades.extend(student.grades[course_name])\n",
        "  return sum(total_grades) / len(total_grades) if total_grades else 0\n",
        "\n",
        "def average_rating_for_lecturers(lecturers, course_name):\n",
        "  total_ratings = []\n",
        "  for lecturer in lecturers:\n",
        "      if course_name in lecturer.courses_rating:\n",
        "          total_ratings.extend(lecturer.courses_rating[course_name])\n",
        "  return sum(total_ratings) / len(total_ratings) if total_ratings else 0\n",
        "\n",
        "# Создание экземпляров классов\n",
        "student1 = Student(\"Ruoy\", \"Eman\", \"Male\")\n",
        "student2 = Student(\"Anna\", \"Smith\", \"Female\")\n",
        "\n",
        "lecturer1 = Lecturer(\"Some\", \"Buddy\")\n",
        "lecturer2 = Lecturer(\"John\", \"Doe\")\n",
        "\n",
        "reviewer1 = Reviewer(\"Review\", \"One\")\n",
        "reviewer2 = Reviewer(\"Review\", \"Two\")\n",
        "\n",
        "# Добавление курсов\n",
        "student1.start_course(\"Python\")\n",
        "student1.start_course(\"Git\")\n",
        "student1.finish_course(\"Python\")\n",
        "\n",
        "student2.start_course(\"Python\")\n",
        "student2.start_course(\"Git\")\n",
        "\n",
        "lecturer1.add_courses([\"Python\", \"Git\"])\n",
        "lecturer2.add_courses([\"Python\"])\n",
        "\n",
        "# Оценки\n",
        "reviewer1.rate_hw(student1, \"Python\", 9)\n",
        "reviewer1.rate_hw(student1, \"Python\", 10)\n",
        "reviewer2.rate_hw(student2, \"Python\", 8)\n",
        "\n",
        "student1.rate_lecturer_course(10, lecturer1, \"Python\")\n",
        "student2.rate_lecturer_course(9, lecturer1, \"Python\")\n",
        "\n",
        "# Вывод информации\n",
        "print(student1)\n",
        "print(lecturer1)\n",
        "\n",
        "# Подсчет средних оценок\n",
        "print(f\"Средняя оценка студентов за курс Python - {average_grade_for_course([student1, student2], \"Python\")}\")\n",
        "print(f\"Средняя оценка лекторов ведущих курс 'Python' - {average_rating_for_lecturers([lecturer1, lecturer2], \"Python\")}\")"
      ],
      "metadata": {
        "id": "uh8n08fdu4V_",
        "colab": {
          "base_uri": "https://localhost:8080/"
        },
        "outputId": "92a5cd70-7276-45d1-c499-8353e4c2929e"
      },
      "execution_count": null,
      "outputs": [
        {
          "output_type": "stream",
          "name": "stdout",
          "text": [
            "Имя: Ruoy\n",
            "Фамилия: Eman\n",
            "Средняя оценка за домашние задания: 10.0\n",
            "Курсы в процессе изучения: Git\n",
            "Завершенные курсы: Python\n",
            "Имя: Some\n",
            "Фамилия: Buddy\n",
            "Средняя оценка за лекции: 9.5\n",
            "Средняя оценка студентов за курс Python - 9.0\n",
            "Средняя оценка лекторов ведущих курс 'Python' - 9.5\n"
          ]
        }
      ]
    },
    {
      "cell_type": "markdown",
      "source": [
        "## **Задание №4. Перегрузка операторов с помощью магических методов**\n"
      ],
      "metadata": {
        "id": "ehfo80anwJUM"
      }
    },
    {
      "cell_type": "markdown",
      "source": [
        "### **Цель задания:**\n",
        "\n"
      ],
      "metadata": {
        "id": "i_KsKg4awZOJ"
      }
    },
    {
      "cell_type": "markdown",
      "source": [
        "Разработать класс `Fraction` для работы с рациональными числами (дробями), реализовав перегрузку стандартных операторов через переопределение соответствующих магических методов. Ваша задача — обеспечить класс `Fraction` функциональностью, демонстрируемой в приведенном примере кода."
      ],
      "metadata": {
        "id": "JvIIB641watq"
      }
    },
    {
      "cell_type": "markdown",
      "source": [
        "### **Описание задания:**\n",
        "\n"
      ],
      "metadata": {
        "id": "BZ9kMLrYwcW_"
      }
    },
    {
      "cell_type": "markdown",
      "source": [
        "Создайте класс `Fraction`, который представляет собой обыкновенную дробь с числителем и знаменателем. Перегрузите основные арифметические операторы для выполнения операций над дробями, а также операторы сравнения. Обеспечьте возможность преобразования дроби в число с плавающей точкой и обратную операцию. Реализуйте обработку исключений при некорректных данных. Предоставьте понятное строковое и официальное представление дроби."
      ],
      "metadata": {
        "id": "6Qt56A-Bwe87"
      }
    },
    {
      "cell_type": "markdown",
      "source": [
        "**Требования к заданию:**\n"
      ],
      "metadata": {
        "id": "1lv3NnB_whqP"
      }
    },
    {
      "cell_type": "markdown",
      "source": [
        "\n",
        "1. **Класс `Fraction` должен:**\n",
        "\n",
        "   - Инициализироваться двумя целыми числами: числителем и знаменателем.\n",
        "   - Обрабатывать ситуацию когда знаменатель равен нулю, а именно выводить сообщение `\"Знаменатель не может быть нулем\"`.\n",
        "   - Упрощать дроби до несократимых при создании и после каждой арифметической операции.\n",
        "\n",
        "2. **Перегрузить следующие операторы путем переопределения магических методов:**\n",
        "\n",
        "   - **Сложение `+`** (`__add__`): сложение двух дробей, возвращает новую дробь.\n",
        "   - **Вычитание `-`** (`__sub__`): вычитание одной дроби из другой, возвращает новую дробь.\n",
        "   - **Умножение `*`** (`__mul__`): умножение двух дробей, возвращает новую дробь.\n",
        "   - **Деление `/`** (`__truediv__`): деление одной дроби на другую, возвращает новую дробь.\n",
        "   - **Равенство `==`** (`__eq__`): проверка равенства двух дробей.\n",
        "   - **Сравнения `>`, `<`, `>=`, `<=`**: сравнение дробей по их значению, реализовать методы `__lt__`, `__le__`, `__gt__`, `__ge__`.\n",
        "\n",
        "3. **Реализовать преобразование типов:**\n",
        "\n",
        "   - **Метод `__float__`**: преобразование дроби в число с плавающей точкой.\n",
        "\n",
        "4. **Дополнительные методы класса:**\n",
        "\n",
        "   - **`reciprocal()`**: возвращает новую дробь, обратную данной (числитель и знаменатель меняются местами).\n",
        "   - **Строковое представление** (`__str__`): возвращает строку вида `\"числитель/знаменатель\"`. Если знаменатель равен 1, возвращает только числитель в виде строки.\n",
        "   - **Официальное представление** (`__repr__`): возвращает строку вида `\"Fraction(числитель, знаменатель)\"`.\n",
        "\n",
        "5. **Обработка исключений:**\n",
        "\n",
        "   - При попытке создать дробь с нулевым знаменателем выводить в консоль сообщение `ValueError`.\n",
        "   - При попытке деления на нулевую дробь, выводить в консоль сообщение `ZeroDivisionError`.\n",
        "\n",
        "6. **Тестирование:**\n",
        "\n",
        "   - Написать код, демонстрирующий работу всех реализованных методов и операторов, используя примеры, приведенные ниже.\n",
        "   - Обеспечить корректную обработку исключений и вывод соответствующих сообщений.\n",
        "\n",
        "\n",
        "\n"
      ],
      "metadata": {
        "id": "4tJX8suPv0TY"
      }
    },
    {
      "cell_type": "code",
      "source": [
        "from math import gcd, floor\n",
        "\n",
        "class Fraction():\n",
        "  def __init__(self, numerator, denominator):\n",
        "    if(denominator == 0):\n",
        "      raise ValueError('The denominator cannot be equal to 0')\n",
        "\n",
        "    n, d = self.__get_min_farction(numerator, denominator)\n",
        "    self.numerator = n\n",
        "    self.denominator = d\n",
        "\n",
        "  def __get_min_farction(self, n, d):\n",
        "    gr_com_div = gcd(n, d)\n",
        "    while(gr_com_div != 1):\n",
        "      n, d = n // gr_com_div, d // gr_com_div\n",
        "      gr_com_div = gcd(n, d)\n",
        "    return n, d\n",
        "\n",
        "  def __add__(self, other):\n",
        "    new_denominator = self.denominator * other.denominator\n",
        "    new_numerator = self.numerator * other.denominator + other.numerator * self.denominator\n",
        "    return Fraction(new_numerator, new_denominator)\n",
        "\n",
        "  def __sub__(self, other):\n",
        "    new_denominator = self.denominator * other.denominator\n",
        "    new_numerator = self.numerator * other.denominator - other.numerator * self.denominator\n",
        "    return Fraction(new_numerator, new_denominator)\n",
        "\n",
        "  def __mul__(self, other):\n",
        "    new_denominator = self.denominator * other.denominator\n",
        "    new_numerator = self.numerator * other.numerator\n",
        "    return Fraction(new_numerator, new_denominator)\n",
        "\n",
        "  def __truediv__(self, other):\n",
        "    if (other.numerator == 0):\n",
        "      raise ZeroDivisionError('Can`t divide by zero')\n",
        "    new_denominator = self.denominator * other.numerator\n",
        "    new_numerator = self.numerator * other.denominator\n",
        "    return Fraction(new_numerator, new_denominator)\n",
        "\n",
        "  def __eq__(self, other):\n",
        "    return (self.numerator == other.numerator and self.denominator == other.denominator)\n",
        "\n",
        "  def __lt__(self, other):\n",
        "    return self.numerator / self.denominator < other.numerator / other.denominator\n",
        "\n",
        "  def __le__(self, other):\n",
        "    return self.numerator / self.denominator <= other.numerator / other.denominator\n",
        "\n",
        "  def __gt__(self, other):\n",
        "    return self.numerator / self.denominator > other.numerator / other.denominator\n",
        "\n",
        "  def __ge__(self, other):\n",
        "    return self.numerator / self.denominator >= other.numerator / other.denominator\n",
        "\n",
        "  def __float__(self):\n",
        "    return float(self.numerator / self.denominator)\n",
        "\n",
        "  def __str__(self):\n",
        "    return f\"{self.numerator}/{self.denominator}\"\n",
        "\n",
        "  def __repr__(self):\n",
        "    return f\"Fraction({self.numerator}, {self.denominator})\"\n",
        "\n",
        "  def reciprocal(self):\n",
        "    return Fraction(self.denominator, self.numerator)\n",
        "\n",
        "  @classmethod\n",
        "  def from_float(cls, x, m=6):\n",
        "    if not (0 <= x <= 1):\n",
        "      raise ValueError(\"x must be between 0 and 1\")\n",
        "\n",
        "    n = 0\n",
        "    p = x\n",
        "\n",
        "    while p - floor(p) > 0 and n <= m:\n",
        "        p *= 10\n",
        "        n += 1\n",
        "\n",
        "    p = int(round(p))\n",
        "    q = 10 ** n\n",
        "\n",
        "    div = gcd(p, q)\n",
        "    p //= div\n",
        "    q //= div\n",
        "\n",
        "    return cls(p, q)\n",
        "print(Fraction(1,2) > Fraction(3, 4))"
      ],
      "metadata": {
        "id": "58JlCtFkxpmU",
        "colab": {
          "base_uri": "https://localhost:8080/"
        },
        "outputId": "e30934bd-363d-494a-a637-a531d79c67d6"
      },
      "execution_count": 92,
      "outputs": [
        {
          "output_type": "stream",
          "name": "stdout",
          "text": [
            "False\n"
          ]
        }
      ]
    },
    {
      "cell_type": "markdown",
      "source": [
        "**Тесты для класса `Fraction`:**\n"
      ],
      "metadata": {
        "id": "N5tZxFvIxdIy"
      }
    },
    {
      "cell_type": "code",
      "source": [
        "# Создание дробей\n",
        "f1 = Fraction(3, 4)\n",
        "f2 = Fraction(5, 6)\n",
        "\n",
        "# Сложение дробей\n",
        "f3 = f1 + f2\n",
        "print(f3)  # Ожидаемый вывод: 19/12\n",
        "\n",
        "# Вычитание дробей\n",
        "f4 = f1 - f2\n",
        "print(f4)  # Ожидаемый вывод: -1/12\n",
        "\n",
        "# Умножение дробей\n",
        "f5 = f1 * f2\n",
        "print(f5)  # Ожидаемый вывод: 5/8\n",
        "\n",
        "# Деление дробей\n",
        "f6 = f1 / f2\n",
        "print(f6)  # Ожидаемый вывод: 9/10\n",
        "\n",
        "# Проверка равенства\n",
        "print(f1 == Fraction(6, 8))   # Ожидаемый вывод: True\n",
        "\n",
        "# Сравнение дробей\n",
        "print(f1 > f2)    # Ожидаемый вывод: False\n",
        "print(f1 < f2)    # Ожидаемый вывод: True\n",
        "\n",
        "# Преобразование к float\n",
        "print(float(f1))  # Ожидаемый вывод: 0.75\n",
        "\n",
        "# Обратная дробь\n",
        "f7 = f1.reciprocal()\n",
        "print(f7)         # Ожидаемый вывод: 4/3\n",
        "\n",
        "# Создание дроби из float\n",
        "f8 = Fraction.from_float(0.75)\n",
        "print(f8)         # Ожидаемый вывод: 3/4\n",
        "\n",
        "# Проверка обработки исключений\n",
        "try:\n",
        "    f_invalid = Fraction(5, 0)\n",
        "except ValueError as e:\n",
        "    print(e)  # Ожидаемый вывод: Знаменатель не может быть нулем\n",
        "\n",
        "# Строковое и официальное представление\n",
        "print(str(f1))    # Ожидаемый вывод: 3/4\n",
        "print(repr(f1))   # Ожидаемый вывод: Fraction(3, 4)"
      ],
      "metadata": {
        "id": "U1UtgDM0xlqJ",
        "colab": {
          "base_uri": "https://localhost:8080/"
        },
        "outputId": "f2728136-62fb-4b3f-dde2-549eafca20f6"
      },
      "execution_count": 93,
      "outputs": [
        {
          "output_type": "stream",
          "name": "stdout",
          "text": [
            "19/12\n",
            "-1/12\n",
            "5/8\n",
            "9/10\n",
            "True\n",
            "False\n",
            "True\n",
            "0.75\n",
            "4/3\n",
            "3/4\n",
            "The denominator cannot be equal to 0\n",
            "3/4\n",
            "Fraction(3, 4)\n"
          ]
        }
      ]
    }
  ]
}